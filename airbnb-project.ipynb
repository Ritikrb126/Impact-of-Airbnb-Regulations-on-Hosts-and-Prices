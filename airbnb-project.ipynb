{
 "cells": [
  {
   "cell_type": "code",
   "execution_count": 1,
   "id": "691d1d5a",
   "metadata": {
    "_cell_guid": "b1076dfc-b9ad-4769-8c92-a6c4dae69d19",
    "_uuid": "8f2839f25d086af736a60e9eeb907d3b93b6e0e5",
    "execution": {
     "iopub.execute_input": "2025-05-12T13:15:41.127653Z",
     "iopub.status.busy": "2025-05-12T13:15:41.126938Z",
     "iopub.status.idle": "2025-05-12T13:15:42.790176Z",
     "shell.execute_reply": "2025-05-12T13:15:42.789263Z"
    },
    "papermill": {
     "duration": 1.67457,
     "end_time": "2025-05-12T13:15:42.791551",
     "exception": false,
     "start_time": "2025-05-12T13:15:41.116981",
     "status": "completed"
    },
    "tags": []
   },
   "outputs": [
    {
     "name": "stdout",
     "output_type": "stream",
     "text": [
      "/kaggle/input/airbnb-listings-reviews/Airbnb Data/Listings.csv\n",
      "/kaggle/input/airbnb-listings-reviews/Airbnb Data/Reviews.csv\n",
      "/kaggle/input/airbnb-listings-reviews/Airbnb Data/Reviews_data_dictionary.csv\n",
      "/kaggle/input/airbnb-listings-reviews/Airbnb Data/Listings_data_dictionary.csv\n"
     ]
    }
   ],
   "source": [
    "# This Python 3 environment comes with many helpful analytics libraries installed\n",
    "# It is defined by the kaggle/python Docker image: https://github.com/kaggle/docker-python\n",
    "# For example, here's several helpful packages to load\n",
    "\n",
    "import numpy as np # linear algebra\n",
    "import pandas as pd # data processing, CSV file I/O (e.g. pd.read_csv)\n",
    "\n",
    "# Input data files are available in the read-only \"../input/\" directory\n",
    "# For example, running this (by clicking run or pressing Shift+Enter) will list all files under the input directory\n",
    "\n",
    "import os\n",
    "for dirname, _, filenames in os.walk('/kaggle/input'):\n",
    "    for filename in filenames:\n",
    "        print(os.path.join(dirname, filename))\n",
    "\n",
    "# You can write up to 20GB to the current directory (/kaggle/working/) that gets preserved as output when you create a version using \"Save & Run All\" \n",
    "# You can also write temporary files to /kaggle/temp/, but they won't be saved outside of the current session"
   ]
  },
  {
   "cell_type": "markdown",
   "id": "986a3556",
   "metadata": {
    "papermill": {
     "duration": 0.007752,
     "end_time": "2025-05-12T13:15:42.808209",
     "exception": false,
     "start_time": "2025-05-12T13:15:42.800457",
     "status": "completed"
    },
    "tags": []
   },
   "source": [
    "<div style=\"background-color: #FF5A5F; padding: 25px; border-radius: 10px;\">\n",
    "  <h1 style=\"color: white; font-size: 28px; font-weight: bold; margin: 0; text-align:center\">\n",
    "    Impact of Airbnb Regulations on Hosts and Prices\n",
    "  </h1>\n",
    "  <h3 style=\"color: #F7F7F7; font-weight: normal; margin-top: 10px;text-align:center\">\n",
    "    A data-driven story of change in the Paris rental market\n",
    "  </h3>\n",
    "</div>\n"
   ]
  },
  {
   "cell_type": "markdown",
   "id": "97c1889e",
   "metadata": {
    "papermill": {
     "duration": 0.00758,
     "end_time": "2025-05-12T13:15:42.823542",
     "exception": false,
     "start_time": "2025-05-12T13:15:42.815962",
     "status": "completed"
    },
    "tags": []
   },
   "source": [
    "<img src=\"https://cdn.intuji.com/2023/04/kelcie-papp-Gk0MAP8A7Cw-unsplash.png\" width=1000>"
   ]
  },
  {
   "cell_type": "markdown",
   "id": "2906e2a0",
   "metadata": {
    "papermill": {
     "duration": 0.007619,
     "end_time": "2025-05-12T13:15:42.838768",
     "exception": false,
     "start_time": "2025-05-12T13:15:42.831149",
     "status": "completed"
    },
    "tags": []
   },
   "source": [
    "<h2 style=\"color: #FF5A5F; border-bottom: 2px solid #FC642D; padding-bottom: 5px;\">\n",
    "  📊 Exploratory Data Analysis (EDA)\n",
    "</h2>\n",
    "<p style=\"color: #484848; font-size: 16px;\">\n",
    "  We'll analyze how key metrics—such as the number of new hosts and average prices—have evolved over time, especially before and after regulatory changes.\n",
    "</p>\n"
   ]
  },
  {
   "cell_type": "code",
   "execution_count": 2,
   "id": "5ed79035",
   "metadata": {
    "execution": {
     "iopub.execute_input": "2025-05-12T13:15:42.854947Z",
     "iopub.status.busy": "2025-05-12T13:15:42.854646Z",
     "iopub.status.idle": "2025-05-12T13:15:42.872184Z",
     "shell.execute_reply": "2025-05-12T13:15:42.871482Z"
    },
    "papermill": {
     "duration": 0.027101,
     "end_time": "2025-05-12T13:15:42.873462",
     "exception": false,
     "start_time": "2025-05-12T13:15:42.846361",
     "status": "completed"
    },
    "tags": []
   },
   "outputs": [],
   "source": [
    "reviews_dict = pd.read_csv(r\"/kaggle/input/airbnb-listings-reviews/Airbnb Data/Reviews_data_dictionary.csv\")\n"
   ]
  },
  {
   "cell_type": "code",
   "execution_count": 3,
   "id": "cfd9d66f",
   "metadata": {
    "execution": {
     "iopub.execute_input": "2025-05-12T13:15:42.889249Z",
     "iopub.status.busy": "2025-05-12T13:15:42.888641Z",
     "iopub.status.idle": "2025-05-12T13:15:42.909391Z",
     "shell.execute_reply": "2025-05-12T13:15:42.908809Z"
    },
    "papermill": {
     "duration": 0.029427,
     "end_time": "2025-05-12T13:15:42.910430",
     "exception": false,
     "start_time": "2025-05-12T13:15:42.881003",
     "status": "completed"
    },
    "tags": []
   },
   "outputs": [
    {
     "data": {
      "text/html": [
       "<div>\n",
       "<style scoped>\n",
       "    .dataframe tbody tr th:only-of-type {\n",
       "        vertical-align: middle;\n",
       "    }\n",
       "\n",
       "    .dataframe tbody tr th {\n",
       "        vertical-align: top;\n",
       "    }\n",
       "\n",
       "    .dataframe thead th {\n",
       "        text-align: right;\n",
       "    }\n",
       "</style>\n",
       "<table border=\"1\" class=\"dataframe\">\n",
       "  <thead>\n",
       "    <tr style=\"text-align: right;\">\n",
       "      <th></th>\n",
       "      <th>Field</th>\n",
       "      <th>Description</th>\n",
       "    </tr>\n",
       "  </thead>\n",
       "  <tbody>\n",
       "    <tr>\n",
       "      <th>0</th>\n",
       "      <td>listing_id</td>\n",
       "      <td>Listing ID</td>\n",
       "    </tr>\n",
       "    <tr>\n",
       "      <th>1</th>\n",
       "      <td>review_id</td>\n",
       "      <td>Review ID</td>\n",
       "    </tr>\n",
       "    <tr>\n",
       "      <th>2</th>\n",
       "      <td>date</td>\n",
       "      <td>Review date</td>\n",
       "    </tr>\n",
       "    <tr>\n",
       "      <th>3</th>\n",
       "      <td>reviewer_id</td>\n",
       "      <td>Reviewer ID</td>\n",
       "    </tr>\n",
       "  </tbody>\n",
       "</table>\n",
       "</div>"
      ],
      "text/plain": [
       "         Field  Description\n",
       "0   listing_id   Listing ID\n",
       "1    review_id    Review ID\n",
       "2         date  Review date\n",
       "3  reviewer_id  Reviewer ID"
      ]
     },
     "execution_count": 3,
     "metadata": {},
     "output_type": "execute_result"
    }
   ],
   "source": [
    "reviews_dict"
   ]
  },
  {
   "cell_type": "code",
   "execution_count": 4,
   "id": "f4da5c59",
   "metadata": {
    "execution": {
     "iopub.execute_input": "2025-05-12T13:15:42.927148Z",
     "iopub.status.busy": "2025-05-12T13:15:42.926703Z",
     "iopub.status.idle": "2025-05-12T13:15:47.844866Z",
     "shell.execute_reply": "2025-05-12T13:15:47.844012Z"
    },
    "papermill": {
     "duration": 4.928087,
     "end_time": "2025-05-12T13:15:47.846554",
     "exception": false,
     "start_time": "2025-05-12T13:15:42.918467",
     "status": "completed"
    },
    "tags": []
   },
   "outputs": [],
   "source": [
    "reviews = pd.read_csv(r\"/kaggle/input/airbnb-listings-reviews/Airbnb Data/Reviews.csv\")"
   ]
  },
  {
   "cell_type": "code",
   "execution_count": 5,
   "id": "8934412e",
   "metadata": {
    "execution": {
     "iopub.execute_input": "2025-05-12T13:15:47.863034Z",
     "iopub.status.busy": "2025-05-12T13:15:47.862805Z",
     "iopub.status.idle": "2025-05-12T13:15:47.870423Z",
     "shell.execute_reply": "2025-05-12T13:15:47.869664Z"
    },
    "papermill": {
     "duration": 0.01692,
     "end_time": "2025-05-12T13:15:47.871564",
     "exception": false,
     "start_time": "2025-05-12T13:15:47.854644",
     "status": "completed"
    },
    "tags": []
   },
   "outputs": [
    {
     "data": {
      "text/html": [
       "<div>\n",
       "<style scoped>\n",
       "    .dataframe tbody tr th:only-of-type {\n",
       "        vertical-align: middle;\n",
       "    }\n",
       "\n",
       "    .dataframe tbody tr th {\n",
       "        vertical-align: top;\n",
       "    }\n",
       "\n",
       "    .dataframe thead th {\n",
       "        text-align: right;\n",
       "    }\n",
       "</style>\n",
       "<table border=\"1\" class=\"dataframe\">\n",
       "  <thead>\n",
       "    <tr style=\"text-align: right;\">\n",
       "      <th></th>\n",
       "      <th>listing_id</th>\n",
       "      <th>review_id</th>\n",
       "      <th>date</th>\n",
       "      <th>reviewer_id</th>\n",
       "    </tr>\n",
       "  </thead>\n",
       "  <tbody>\n",
       "    <tr>\n",
       "      <th>0</th>\n",
       "      <td>11798</td>\n",
       "      <td>330265172</td>\n",
       "      <td>2018-09-30</td>\n",
       "      <td>11863072</td>\n",
       "    </tr>\n",
       "    <tr>\n",
       "      <th>1</th>\n",
       "      <td>15383</td>\n",
       "      <td>330103585</td>\n",
       "      <td>2018-09-30</td>\n",
       "      <td>39147453</td>\n",
       "    </tr>\n",
       "    <tr>\n",
       "      <th>2</th>\n",
       "      <td>16455</td>\n",
       "      <td>329985788</td>\n",
       "      <td>2018-09-30</td>\n",
       "      <td>1125378</td>\n",
       "    </tr>\n",
       "    <tr>\n",
       "      <th>3</th>\n",
       "      <td>17919</td>\n",
       "      <td>330016899</td>\n",
       "      <td>2018-09-30</td>\n",
       "      <td>172717984</td>\n",
       "    </tr>\n",
       "    <tr>\n",
       "      <th>4</th>\n",
       "      <td>26827</td>\n",
       "      <td>329995638</td>\n",
       "      <td>2018-09-30</td>\n",
       "      <td>17542859</td>\n",
       "    </tr>\n",
       "  </tbody>\n",
       "</table>\n",
       "</div>"
      ],
      "text/plain": [
       "   listing_id  review_id        date  reviewer_id\n",
       "0       11798  330265172  2018-09-30     11863072\n",
       "1       15383  330103585  2018-09-30     39147453\n",
       "2       16455  329985788  2018-09-30      1125378\n",
       "3       17919  330016899  2018-09-30    172717984\n",
       "4       26827  329995638  2018-09-30     17542859"
      ]
     },
     "execution_count": 5,
     "metadata": {},
     "output_type": "execute_result"
    }
   ],
   "source": [
    "reviews.head()"
   ]
  },
  {
   "cell_type": "code",
   "execution_count": 6,
   "id": "536f44ce",
   "metadata": {
    "execution": {
     "iopub.execute_input": "2025-05-12T13:15:47.887136Z",
     "iopub.status.busy": "2025-05-12T13:15:47.886938Z",
     "iopub.status.idle": "2025-05-12T13:15:47.893978Z",
     "shell.execute_reply": "2025-05-12T13:15:47.893533Z"
    },
    "papermill": {
     "duration": 0.015755,
     "end_time": "2025-05-12T13:15:47.894935",
     "exception": false,
     "start_time": "2025-05-12T13:15:47.879180",
     "status": "completed"
    },
    "tags": []
   },
   "outputs": [],
   "source": [
    "listing_dict = pd.read_csv(r\"/kaggle/input/airbnb-listings-reviews/Airbnb Data/Listings_data_dictionary.csv\")"
   ]
  },
  {
   "cell_type": "code",
   "execution_count": 7,
   "id": "b58a93ff",
   "metadata": {
    "execution": {
     "iopub.execute_input": "2025-05-12T13:15:47.910670Z",
     "iopub.status.busy": "2025-05-12T13:15:47.910505Z",
     "iopub.status.idle": "2025-05-12T13:15:47.913631Z",
     "shell.execute_reply": "2025-05-12T13:15:47.912986Z"
    },
    "papermill": {
     "duration": 0.012113,
     "end_time": "2025-05-12T13:15:47.914727",
     "exception": false,
     "start_time": "2025-05-12T13:15:47.902614",
     "status": "completed"
    },
    "tags": []
   },
   "outputs": [],
   "source": [
    "import warnings\n",
    "warnings.filterwarnings(\"ignore\") # it will ignore all the warning and wont show it. error will be not affected"
   ]
  },
  {
   "cell_type": "code",
   "execution_count": 8,
   "id": "480cfbef",
   "metadata": {
    "execution": {
     "iopub.execute_input": "2025-05-12T13:15:47.930557Z",
     "iopub.status.busy": "2025-05-12T13:15:47.930327Z",
     "iopub.status.idle": "2025-05-12T13:15:47.937568Z",
     "shell.execute_reply": "2025-05-12T13:15:47.937040Z"
    },
    "papermill": {
     "duration": 0.016353,
     "end_time": "2025-05-12T13:15:47.938576",
     "exception": false,
     "start_time": "2025-05-12T13:15:47.922223",
     "status": "completed"
    },
    "tags": []
   },
   "outputs": [
    {
     "data": {
      "text/html": [
       "<div>\n",
       "<style scoped>\n",
       "    .dataframe tbody tr th:only-of-type {\n",
       "        vertical-align: middle;\n",
       "    }\n",
       "\n",
       "    .dataframe tbody tr th {\n",
       "        vertical-align: top;\n",
       "    }\n",
       "\n",
       "    .dataframe thead th {\n",
       "        text-align: right;\n",
       "    }\n",
       "</style>\n",
       "<table border=\"1\" class=\"dataframe\">\n",
       "  <thead>\n",
       "    <tr style=\"text-align: right;\">\n",
       "      <th></th>\n",
       "      <th>Field</th>\n",
       "      <th>Description</th>\n",
       "    </tr>\n",
       "  </thead>\n",
       "  <tbody>\n",
       "    <tr>\n",
       "      <th>0</th>\n",
       "      <td>listing_id</td>\n",
       "      <td>Listing ID</td>\n",
       "    </tr>\n",
       "    <tr>\n",
       "      <th>1</th>\n",
       "      <td>name</td>\n",
       "      <td>Listing Name</td>\n",
       "    </tr>\n",
       "    <tr>\n",
       "      <th>2</th>\n",
       "      <td>host_id</td>\n",
       "      <td>Host ID</td>\n",
       "    </tr>\n",
       "    <tr>\n",
       "      <th>3</th>\n",
       "      <td>host_since</td>\n",
       "      <td>Date the Host joined Airbnb</td>\n",
       "    </tr>\n",
       "    <tr>\n",
       "      <th>4</th>\n",
       "      <td>host_location</td>\n",
       "      <td>Location where the Host is based</td>\n",
       "    </tr>\n",
       "    <tr>\n",
       "      <th>5</th>\n",
       "      <td>host_response_time</td>\n",
       "      <td>Estimate of how long the Host takes to respond</td>\n",
       "    </tr>\n",
       "    <tr>\n",
       "      <th>6</th>\n",
       "      <td>host_response_rate</td>\n",
       "      <td>Percentage of times the Host responds</td>\n",
       "    </tr>\n",
       "    <tr>\n",
       "      <th>7</th>\n",
       "      <td>host_acceptance_rate</td>\n",
       "      <td>Percentage of times the Host accepts a booking...</td>\n",
       "    </tr>\n",
       "    <tr>\n",
       "      <th>8</th>\n",
       "      <td>host_is_superhost</td>\n",
       "      <td>Binary field to determine if the Host is a Sup...</td>\n",
       "    </tr>\n",
       "    <tr>\n",
       "      <th>9</th>\n",
       "      <td>host_total_listings_count</td>\n",
       "      <td>Total listings the Host has in Airbnb</td>\n",
       "    </tr>\n",
       "    <tr>\n",
       "      <th>10</th>\n",
       "      <td>host_has_profile_pic</td>\n",
       "      <td>Binary field to determine if the Host has a pr...</td>\n",
       "    </tr>\n",
       "    <tr>\n",
       "      <th>11</th>\n",
       "      <td>host_identity_verified</td>\n",
       "      <td>Binary field to determine if the Host has a ve...</td>\n",
       "    </tr>\n",
       "    <tr>\n",
       "      <th>12</th>\n",
       "      <td>neighbourhood</td>\n",
       "      <td>Neighborhood the Listing is in</td>\n",
       "    </tr>\n",
       "    <tr>\n",
       "      <th>13</th>\n",
       "      <td>district</td>\n",
       "      <td>District the Listing is in</td>\n",
       "    </tr>\n",
       "    <tr>\n",
       "      <th>14</th>\n",
       "      <td>city</td>\n",
       "      <td>City the Listing is in</td>\n",
       "    </tr>\n",
       "    <tr>\n",
       "      <th>15</th>\n",
       "      <td>latitude</td>\n",
       "      <td>Listing's latitude</td>\n",
       "    </tr>\n",
       "    <tr>\n",
       "      <th>16</th>\n",
       "      <td>longitude</td>\n",
       "      <td>Listing's longitude</td>\n",
       "    </tr>\n",
       "    <tr>\n",
       "      <th>17</th>\n",
       "      <td>property_type</td>\n",
       "      <td>Type of property for the Listing</td>\n",
       "    </tr>\n",
       "    <tr>\n",
       "      <th>18</th>\n",
       "      <td>room_type</td>\n",
       "      <td>Type of room type in Airbnb for the Listing</td>\n",
       "    </tr>\n",
       "    <tr>\n",
       "      <th>19</th>\n",
       "      <td>accommodates</td>\n",
       "      <td>Guests the Listing accomodates</td>\n",
       "    </tr>\n",
       "    <tr>\n",
       "      <th>20</th>\n",
       "      <td>bedrooms</td>\n",
       "      <td>Bedrooms in the Listing</td>\n",
       "    </tr>\n",
       "    <tr>\n",
       "      <th>21</th>\n",
       "      <td>amenities</td>\n",
       "      <td>Amenities the Listing includes</td>\n",
       "    </tr>\n",
       "    <tr>\n",
       "      <th>22</th>\n",
       "      <td>price</td>\n",
       "      <td>Listing price (in each country's currency)</td>\n",
       "    </tr>\n",
       "    <tr>\n",
       "      <th>23</th>\n",
       "      <td>minimum_nights</td>\n",
       "      <td>Minimum nights per booking</td>\n",
       "    </tr>\n",
       "    <tr>\n",
       "      <th>24</th>\n",
       "      <td>maximum_nights</td>\n",
       "      <td>Maximum nights per booking</td>\n",
       "    </tr>\n",
       "    <tr>\n",
       "      <th>25</th>\n",
       "      <td>review_scores_rating</td>\n",
       "      <td>Listing's overall rating (out of 100)</td>\n",
       "    </tr>\n",
       "    <tr>\n",
       "      <th>26</th>\n",
       "      <td>review_scores_accuracy</td>\n",
       "      <td>Listing's accuracy score based on what's promo...</td>\n",
       "    </tr>\n",
       "    <tr>\n",
       "      <th>27</th>\n",
       "      <td>review_scores_cleanliness</td>\n",
       "      <td>Listing's cleanliness score (out of 10)</td>\n",
       "    </tr>\n",
       "    <tr>\n",
       "      <th>28</th>\n",
       "      <td>review_scores_checkin</td>\n",
       "      <td>Listing's check-in experience score (out of 10)</td>\n",
       "    </tr>\n",
       "    <tr>\n",
       "      <th>29</th>\n",
       "      <td>review_scores_communication</td>\n",
       "      <td>Listing's communication with the Host score (o...</td>\n",
       "    </tr>\n",
       "    <tr>\n",
       "      <th>30</th>\n",
       "      <td>review_scores_location</td>\n",
       "      <td>Listing's location score within the city (out ...</td>\n",
       "    </tr>\n",
       "    <tr>\n",
       "      <th>31</th>\n",
       "      <td>review_scores_value</td>\n",
       "      <td>Listing's value score relative to its price (o...</td>\n",
       "    </tr>\n",
       "    <tr>\n",
       "      <th>32</th>\n",
       "      <td>instant_bookable</td>\n",
       "      <td>Binary field to determine if the Listing can b...</td>\n",
       "    </tr>\n",
       "  </tbody>\n",
       "</table>\n",
       "</div>"
      ],
      "text/plain": [
       "                          Field  \\\n",
       "0                    listing_id   \n",
       "1                          name   \n",
       "2                       host_id   \n",
       "3                    host_since   \n",
       "4                 host_location   \n",
       "5            host_response_time   \n",
       "6            host_response_rate   \n",
       "7          host_acceptance_rate   \n",
       "8             host_is_superhost   \n",
       "9     host_total_listings_count   \n",
       "10         host_has_profile_pic   \n",
       "11       host_identity_verified   \n",
       "12                neighbourhood   \n",
       "13                     district   \n",
       "14                         city   \n",
       "15                     latitude   \n",
       "16                    longitude   \n",
       "17                property_type   \n",
       "18                    room_type   \n",
       "19                 accommodates   \n",
       "20                     bedrooms   \n",
       "21                    amenities   \n",
       "22                        price   \n",
       "23               minimum_nights   \n",
       "24               maximum_nights   \n",
       "25         review_scores_rating   \n",
       "26       review_scores_accuracy   \n",
       "27    review_scores_cleanliness   \n",
       "28        review_scores_checkin   \n",
       "29  review_scores_communication   \n",
       "30       review_scores_location   \n",
       "31          review_scores_value   \n",
       "32             instant_bookable   \n",
       "\n",
       "                                          Description  \n",
       "0                                          Listing ID  \n",
       "1                                        Listing Name  \n",
       "2                                             Host ID  \n",
       "3                         Date the Host joined Airbnb  \n",
       "4                    Location where the Host is based  \n",
       "5      Estimate of how long the Host takes to respond  \n",
       "6               Percentage of times the Host responds  \n",
       "7   Percentage of times the Host accepts a booking...  \n",
       "8   Binary field to determine if the Host is a Sup...  \n",
       "9               Total listings the Host has in Airbnb  \n",
       "10  Binary field to determine if the Host has a pr...  \n",
       "11  Binary field to determine if the Host has a ve...  \n",
       "12                     Neighborhood the Listing is in  \n",
       "13                         District the Listing is in  \n",
       "14                             City the Listing is in  \n",
       "15                                 Listing's latitude  \n",
       "16                                Listing's longitude  \n",
       "17                   Type of property for the Listing  \n",
       "18        Type of room type in Airbnb for the Listing  \n",
       "19                     Guests the Listing accomodates  \n",
       "20                            Bedrooms in the Listing  \n",
       "21                     Amenities the Listing includes  \n",
       "22         Listing price (in each country's currency)  \n",
       "23                         Minimum nights per booking  \n",
       "24                         Maximum nights per booking  \n",
       "25              Listing's overall rating (out of 100)  \n",
       "26  Listing's accuracy score based on what's promo...  \n",
       "27            Listing's cleanliness score (out of 10)  \n",
       "28    Listing's check-in experience score (out of 10)  \n",
       "29  Listing's communication with the Host score (o...  \n",
       "30  Listing's location score within the city (out ...  \n",
       "31  Listing's value score relative to its price (o...  \n",
       "32  Binary field to determine if the Listing can b...  "
      ]
     },
     "execution_count": 8,
     "metadata": {},
     "output_type": "execute_result"
    }
   ],
   "source": [
    "listing_dict"
   ]
  },
  {
   "cell_type": "markdown",
   "id": "68aa2abb",
   "metadata": {
    "papermill": {
     "duration": 0.00765,
     "end_time": "2025-05-12T13:15:47.953830",
     "exception": false,
     "start_time": "2025-05-12T13:15:47.946180",
     "status": "completed"
    },
    "tags": []
   },
   "source": [
    "<div style=\"background-color: #FF5A5F; padding: 25px; border-radius: 10px;\">\n",
    "  <h1 style=\"color: white; font-size: 24px; font-weight: bold; margin: 0;text-align:center\">\n",
    "    📂 Loading and Checking the Dataset\n",
    "  </h1>\n",
    "</div>\n"
   ]
  },
  {
   "cell_type": "code",
   "execution_count": 9,
   "id": "589e3f1d",
   "metadata": {
    "execution": {
     "iopub.execute_input": "2025-05-12T13:15:47.969848Z",
     "iopub.status.busy": "2025-05-12T13:15:47.969664Z",
     "iopub.status.idle": "2025-05-12T13:15:52.473455Z",
     "shell.execute_reply": "2025-05-12T13:15:52.472599Z"
    },
    "papermill": {
     "duration": 4.513346,
     "end_time": "2025-05-12T13:15:52.474899",
     "exception": false,
     "start_time": "2025-05-12T13:15:47.961553",
     "status": "completed"
    },
    "tags": []
   },
   "outputs": [],
   "source": [
    "listing = pd.read_csv(r\"/kaggle/input/airbnb-listings-reviews/Airbnb Data/Listings.csv\",\n",
    "                     encoding = 'ISO-8859-1',low_memory=False)"
   ]
  },
  {
   "cell_type": "code",
   "execution_count": 10,
   "id": "e096ca76",
   "metadata": {
    "execution": {
     "iopub.execute_input": "2025-05-12T13:15:52.492233Z",
     "iopub.status.busy": "2025-05-12T13:15:52.491676Z",
     "iopub.status.idle": "2025-05-12T13:15:52.514723Z",
     "shell.execute_reply": "2025-05-12T13:15:52.513950Z"
    },
    "papermill": {
     "duration": 0.032574,
     "end_time": "2025-05-12T13:15:52.515842",
     "exception": false,
     "start_time": "2025-05-12T13:15:52.483268",
     "status": "completed"
    },
    "tags": []
   },
   "outputs": [
    {
     "data": {
      "text/html": [
       "<div>\n",
       "<style scoped>\n",
       "    .dataframe tbody tr th:only-of-type {\n",
       "        vertical-align: middle;\n",
       "    }\n",
       "\n",
       "    .dataframe tbody tr th {\n",
       "        vertical-align: top;\n",
       "    }\n",
       "\n",
       "    .dataframe thead th {\n",
       "        text-align: right;\n",
       "    }\n",
       "</style>\n",
       "<table border=\"1\" class=\"dataframe\">\n",
       "  <thead>\n",
       "    <tr style=\"text-align: right;\">\n",
       "      <th></th>\n",
       "      <th>listing_id</th>\n",
       "      <th>name</th>\n",
       "      <th>host_id</th>\n",
       "      <th>host_since</th>\n",
       "      <th>host_location</th>\n",
       "      <th>host_response_time</th>\n",
       "      <th>host_response_rate</th>\n",
       "      <th>host_acceptance_rate</th>\n",
       "      <th>host_is_superhost</th>\n",
       "      <th>host_total_listings_count</th>\n",
       "      <th>...</th>\n",
       "      <th>minimum_nights</th>\n",
       "      <th>maximum_nights</th>\n",
       "      <th>review_scores_rating</th>\n",
       "      <th>review_scores_accuracy</th>\n",
       "      <th>review_scores_cleanliness</th>\n",
       "      <th>review_scores_checkin</th>\n",
       "      <th>review_scores_communication</th>\n",
       "      <th>review_scores_location</th>\n",
       "      <th>review_scores_value</th>\n",
       "      <th>instant_bookable</th>\n",
       "    </tr>\n",
       "  </thead>\n",
       "  <tbody>\n",
       "    <tr>\n",
       "      <th>0</th>\n",
       "      <td>281420</td>\n",
       "      <td>Beautiful Flat in le Village Montmartre, Paris</td>\n",
       "      <td>1466919</td>\n",
       "      <td>2011-12-03</td>\n",
       "      <td>Paris, Ile-de-France, France</td>\n",
       "      <td>NaN</td>\n",
       "      <td>NaN</td>\n",
       "      <td>NaN</td>\n",
       "      <td>f</td>\n",
       "      <td>1.0</td>\n",
       "      <td>...</td>\n",
       "      <td>2</td>\n",
       "      <td>1125</td>\n",
       "      <td>100.0</td>\n",
       "      <td>10.0</td>\n",
       "      <td>10.0</td>\n",
       "      <td>10.0</td>\n",
       "      <td>10.0</td>\n",
       "      <td>10.0</td>\n",
       "      <td>10.0</td>\n",
       "      <td>f</td>\n",
       "    </tr>\n",
       "    <tr>\n",
       "      <th>1</th>\n",
       "      <td>3705183</td>\n",
       "      <td>39 mÃÂ² Paris (Sacre CÃ",
       "âur)</td>\n",
       "      <td>10328771</td>\n",
       "      <td>2013-11-29</td>\n",
       "      <td>Paris, Ile-de-France, France</td>\n",
       "      <td>NaN</td>\n",
       "      <td>NaN</td>\n",
       "      <td>NaN</td>\n",
       "      <td>f</td>\n",
       "      <td>1.0</td>\n",
       "      <td>...</td>\n",
       "      <td>2</td>\n",
       "      <td>1125</td>\n",
       "      <td>100.0</td>\n",
       "      <td>10.0</td>\n",
       "      <td>10.0</td>\n",
       "      <td>10.0</td>\n",
       "      <td>10.0</td>\n",
       "      <td>10.0</td>\n",
       "      <td>10.0</td>\n",
       "      <td>f</td>\n",
       "    </tr>\n",
       "    <tr>\n",
       "      <th>2</th>\n",
       "      <td>4082273</td>\n",
       "      <td>Lovely apartment with Terrace, 60m2</td>\n",
       "      <td>19252768</td>\n",
       "      <td>2014-07-31</td>\n",
       "      <td>Paris, Ile-de-France, France</td>\n",
       "      <td>NaN</td>\n",
       "      <td>NaN</td>\n",
       "      <td>NaN</td>\n",
       "      <td>f</td>\n",
       "      <td>1.0</td>\n",
       "      <td>...</td>\n",
       "      <td>2</td>\n",
       "      <td>1125</td>\n",
       "      <td>100.0</td>\n",
       "      <td>10.0</td>\n",
       "      <td>10.0</td>\n",
       "      <td>10.0</td>\n",
       "      <td>10.0</td>\n",
       "      <td>10.0</td>\n",
       "      <td>10.0</td>\n",
       "      <td>f</td>\n",
       "    </tr>\n",
       "    <tr>\n",
       "      <th>3</th>\n",
       "      <td>4797344</td>\n",
       "      <td>Cosy studio (close to Eiffel tower)</td>\n",
       "      <td>10668311</td>\n",
       "      <td>2013-12-17</td>\n",
       "      <td>Paris, Ile-de-France, France</td>\n",
       "      <td>NaN</td>\n",
       "      <td>NaN</td>\n",
       "      <td>NaN</td>\n",
       "      <td>f</td>\n",
       "      <td>1.0</td>\n",
       "      <td>...</td>\n",
       "      <td>2</td>\n",
       "      <td>1125</td>\n",
       "      <td>100.0</td>\n",
       "      <td>10.0</td>\n",
       "      <td>10.0</td>\n",
       "      <td>10.0</td>\n",
       "      <td>10.0</td>\n",
       "      <td>10.0</td>\n",
       "      <td>10.0</td>\n",
       "      <td>f</td>\n",
       "    </tr>\n",
       "    <tr>\n",
       "      <th>4</th>\n",
       "      <td>4823489</td>\n",
       "      <td>Close to Eiffel Tower - Beautiful flat : 2 rooms</td>\n",
       "      <td>24837558</td>\n",
       "      <td>2014-12-14</td>\n",
       "      <td>Paris, Ile-de-France, France</td>\n",
       "      <td>NaN</td>\n",
       "      <td>NaN</td>\n",
       "      <td>NaN</td>\n",
       "      <td>f</td>\n",
       "      <td>1.0</td>\n",
       "      <td>...</td>\n",
       "      <td>2</td>\n",
       "      <td>1125</td>\n",
       "      <td>100.0</td>\n",
       "      <td>10.0</td>\n",
       "      <td>10.0</td>\n",
       "      <td>10.0</td>\n",
       "      <td>10.0</td>\n",
       "      <td>10.0</td>\n",
       "      <td>10.0</td>\n",
       "      <td>f</td>\n",
       "    </tr>\n",
       "  </tbody>\n",
       "</table>\n",
       "<p>5 rows × 33 columns</p>\n",
       "</div>"
      ],
      "text/plain": [
       "   listing_id                                              name   host_id  \\\n",
       "0      281420    Beautiful Flat in le Village Montmartre, Paris   1466919   \n",
       "1     3705183                   39 mÃÂ² Paris (Sacre CÃ\n",
       "âur)  10328771   \n",
       "2     4082273               Lovely apartment with Terrace, 60m2  19252768   \n",
       "3     4797344               Cosy studio (close to Eiffel tower)  10668311   \n",
       "4     4823489  Close to Eiffel Tower - Beautiful flat : 2 rooms  24837558   \n",
       "\n",
       "   host_since                 host_location host_response_time  \\\n",
       "0  2011-12-03  Paris, Ile-de-France, France                NaN   \n",
       "1  2013-11-29  Paris, Ile-de-France, France                NaN   \n",
       "2  2014-07-31  Paris, Ile-de-France, France                NaN   \n",
       "3  2013-12-17  Paris, Ile-de-France, France                NaN   \n",
       "4  2014-12-14  Paris, Ile-de-France, France                NaN   \n",
       "\n",
       "   host_response_rate  host_acceptance_rate host_is_superhost  \\\n",
       "0                 NaN                   NaN                 f   \n",
       "1                 NaN                   NaN                 f   \n",
       "2                 NaN                   NaN                 f   \n",
       "3                 NaN                   NaN                 f   \n",
       "4                 NaN                   NaN                 f   \n",
       "\n",
       "   host_total_listings_count  ... minimum_nights maximum_nights  \\\n",
       "0                        1.0  ...              2           1125   \n",
       "1                        1.0  ...              2           1125   \n",
       "2                        1.0  ...              2           1125   \n",
       "3                        1.0  ...              2           1125   \n",
       "4                        1.0  ...              2           1125   \n",
       "\n",
       "  review_scores_rating review_scores_accuracy review_scores_cleanliness  \\\n",
       "0                100.0                   10.0                      10.0   \n",
       "1                100.0                   10.0                      10.0   \n",
       "2                100.0                   10.0                      10.0   \n",
       "3                100.0                   10.0                      10.0   \n",
       "4                100.0                   10.0                      10.0   \n",
       "\n",
       "   review_scores_checkin  review_scores_communication review_scores_location  \\\n",
       "0                   10.0                         10.0                   10.0   \n",
       "1                   10.0                         10.0                   10.0   \n",
       "2                   10.0                         10.0                   10.0   \n",
       "3                   10.0                         10.0                   10.0   \n",
       "4                   10.0                         10.0                   10.0   \n",
       "\n",
       "  review_scores_value  instant_bookable  \n",
       "0                10.0                 f  \n",
       "1                10.0                 f  \n",
       "2                10.0                 f  \n",
       "3                10.0                 f  \n",
       "4                10.0                 f  \n",
       "\n",
       "[5 rows x 33 columns]"
      ]
     },
     "execution_count": 10,
     "metadata": {},
     "output_type": "execute_result"
    }
   ],
   "source": [
    "listing.head()"
   ]
  },
  {
   "cell_type": "code",
   "execution_count": 11,
   "id": "0527d892",
   "metadata": {
    "execution": {
     "iopub.execute_input": "2025-05-12T13:15:52.532930Z",
     "iopub.status.busy": "2025-05-12T13:15:52.532740Z",
     "iopub.status.idle": "2025-05-12T13:15:52.581198Z",
     "shell.execute_reply": "2025-05-12T13:15:52.580572Z"
    },
    "papermill": {
     "duration": 0.058211,
     "end_time": "2025-05-12T13:15:52.582302",
     "exception": false,
     "start_time": "2025-05-12T13:15:52.524091",
     "status": "completed"
    },
    "tags": []
   },
   "outputs": [],
   "source": [
    "listing['host_since']=pd.to_datetime(listing['host_since'])"
   ]
  },
  {
   "cell_type": "markdown",
   "id": "9f18f322",
   "metadata": {
    "papermill": {
     "duration": 0.007665,
     "end_time": "2025-05-12T13:15:52.598318",
     "exception": false,
     "start_time": "2025-05-12T13:15:52.590653",
     "status": "completed"
    },
    "tags": []
   },
   "source": [
    "<div style=\"background-color: #FF5A5F; padding: 25px; border-radius: 10px;\">\n",
    "  <h1 style=\"color: white; font-size: 24px; font-weight: bold; margin: 0;text-align:center\">\n",
    "    🧾 Information About the Dataset\n",
    "  </h1>\n",
    "</div>\n"
   ]
  },
  {
   "cell_type": "code",
   "execution_count": 12,
   "id": "b65ad37e",
   "metadata": {
    "execution": {
     "iopub.execute_input": "2025-05-12T13:15:52.614902Z",
     "iopub.status.busy": "2025-05-12T13:15:52.614712Z",
     "iopub.status.idle": "2025-05-12T13:15:52.822733Z",
     "shell.execute_reply": "2025-05-12T13:15:52.821732Z"
    },
    "papermill": {
     "duration": 0.217939,
     "end_time": "2025-05-12T13:15:52.824156",
     "exception": false,
     "start_time": "2025-05-12T13:15:52.606217",
     "status": "completed"
    },
    "tags": []
   },
   "outputs": [
    {
     "name": "stdout",
     "output_type": "stream",
     "text": [
      "<class 'pandas.core.frame.DataFrame'>\n",
      "RangeIndex: 279712 entries, 0 to 279711\n",
      "Data columns (total 33 columns):\n",
      " #   Column                       Non-Null Count   Dtype         \n",
      "---  ------                       --------------   -----         \n",
      " 0   listing_id                   279712 non-null  int64         \n",
      " 1   name                         279537 non-null  object        \n",
      " 2   host_id                      279712 non-null  int64         \n",
      " 3   host_since                   279547 non-null  datetime64[ns]\n",
      " 4   host_location                278872 non-null  object        \n",
      " 5   host_response_time           150930 non-null  object        \n",
      " 6   host_response_rate           150930 non-null  float64       \n",
      " 7   host_acceptance_rate         166625 non-null  float64       \n",
      " 8   host_is_superhost            279547 non-null  object        \n",
      " 9   host_total_listings_count    279547 non-null  float64       \n",
      " 10  host_has_profile_pic         279547 non-null  object        \n",
      " 11  host_identity_verified       279547 non-null  object        \n",
      " 12  neighbourhood                279712 non-null  object        \n",
      " 13  district                     37012 non-null   object        \n",
      " 14  city                         279712 non-null  object        \n",
      " 15  latitude                     279712 non-null  float64       \n",
      " 16  longitude                    279712 non-null  float64       \n",
      " 17  property_type                279712 non-null  object        \n",
      " 18  room_type                    279712 non-null  object        \n",
      " 19  accommodates                 279712 non-null  int64         \n",
      " 20  bedrooms                     250277 non-null  float64       \n",
      " 21  amenities                    279712 non-null  object        \n",
      " 22  price                        279712 non-null  int64         \n",
      " 23  minimum_nights               279712 non-null  int64         \n",
      " 24  maximum_nights               279712 non-null  int64         \n",
      " 25  review_scores_rating         188307 non-null  float64       \n",
      " 26  review_scores_accuracy       187999 non-null  float64       \n",
      " 27  review_scores_cleanliness    188047 non-null  float64       \n",
      " 28  review_scores_checkin        187941 non-null  float64       \n",
      " 29  review_scores_communication  188025 non-null  float64       \n",
      " 30  review_scores_location       187937 non-null  float64       \n",
      " 31  review_scores_value          187927 non-null  float64       \n",
      " 32  instant_bookable             279712 non-null  object        \n",
      "dtypes: datetime64[ns](1), float64(13), int64(6), object(13)\n",
      "memory usage: 70.4+ MB\n"
     ]
    }
   ],
   "source": [
    "listing.info()"
   ]
  },
  {
   "cell_type": "code",
   "execution_count": 13,
   "id": "6a283566",
   "metadata": {
    "execution": {
     "iopub.execute_input": "2025-05-12T13:15:52.890393Z",
     "iopub.status.busy": "2025-05-12T13:15:52.889707Z",
     "iopub.status.idle": "2025-05-12T13:15:52.895873Z",
     "shell.execute_reply": "2025-05-12T13:15:52.895247Z"
    },
    "papermill": {
     "duration": 0.019178,
     "end_time": "2025-05-12T13:15:52.897111",
     "exception": false,
     "start_time": "2025-05-12T13:15:52.877933",
     "status": "completed"
    },
    "tags": []
   },
   "outputs": [
    {
     "data": {
      "text/plain": [
       "0         Paris\n",
       "1         Paris\n",
       "2         Paris\n",
       "3         Paris\n",
       "4         Paris\n",
       "          ...  \n",
       "279707    Paris\n",
       "279708    Paris\n",
       "279709    Paris\n",
       "279710    Paris\n",
       "279711    Paris\n",
       "Name: city, Length: 279712, dtype: object"
      ]
     },
     "execution_count": 13,
     "metadata": {},
     "output_type": "execute_result"
    }
   ],
   "source": [
    "listing['city']"
   ]
  },
  {
   "cell_type": "code",
   "execution_count": 14,
   "id": "9d68790f",
   "metadata": {
    "execution": {
     "iopub.execute_input": "2025-05-12T13:15:52.918011Z",
     "iopub.status.busy": "2025-05-12T13:15:52.917752Z",
     "iopub.status.idle": "2025-05-12T13:15:52.939009Z",
     "shell.execute_reply": "2025-05-12T13:15:52.938158Z"
    },
    "papermill": {
     "duration": 0.032897,
     "end_time": "2025-05-12T13:15:52.940196",
     "exception": false,
     "start_time": "2025-05-12T13:15:52.907299",
     "status": "completed"
    },
    "tags": []
   },
   "outputs": [
    {
     "data": {
      "text/plain": [
       "city\n",
       "Paris             64690\n",
       "New York          37012\n",
       "Sydney            33630\n",
       "Rome              27647\n",
       "Rio de Janeiro    26615\n",
       "Istanbul          24519\n",
       "Mexico City       20065\n",
       "Bangkok           19361\n",
       "Cape Town         19086\n",
       "Hong Kong          7087\n",
       "Name: count, dtype: int64"
      ]
     },
     "execution_count": 14,
     "metadata": {},
     "output_type": "execute_result"
    }
   ],
   "source": [
    "listing['city'].value_counts()"
   ]
  },
  {
   "cell_type": "markdown",
   "id": "f106b287",
   "metadata": {
    "papermill": {
     "duration": 0.009101,
     "end_time": "2025-05-12T13:15:52.959027",
     "exception": false,
     "start_time": "2025-05-12T13:15:52.949926",
     "status": "completed"
    },
    "tags": []
   },
   "source": [
    "<div style=\"background-color: #FF5A5F; padding: 25px; border-radius: 10px;\">\n",
    "  <h1 style=\"color: white; font-size: 24px; font-weight: bold; margin: 0;text-align:center\">\n",
    "    🔄 Columns and Rows Filtering\n",
    "  </h1>\n",
    "</div>\n"
   ]
  },
  {
   "cell_type": "code",
   "execution_count": 15,
   "id": "7ac4990c",
   "metadata": {
    "execution": {
     "iopub.execute_input": "2025-05-12T13:15:52.977997Z",
     "iopub.status.busy": "2025-05-12T13:15:52.977389Z",
     "iopub.status.idle": "2025-05-12T13:15:53.014249Z",
     "shell.execute_reply": "2025-05-12T13:15:53.013522Z"
    },
    "papermill": {
     "duration": 0.047832,
     "end_time": "2025-05-12T13:15:53.015533",
     "exception": false,
     "start_time": "2025-05-12T13:15:52.967701",
     "status": "completed"
    },
    "tags": []
   },
   "outputs": [],
   "source": [
    "# getting only data of city paris and perticular coloums only \n",
    "paris_listing=listing.query(\"city=='Paris'\").loc[:,['host_since','neighbourhood','city','accommodates','price']]"
   ]
  },
  {
   "cell_type": "markdown",
   "id": "7ef05131",
   "metadata": {
    "papermill": {
     "duration": 0.008909,
     "end_time": "2025-05-12T13:15:53.033514",
     "exception": false,
     "start_time": "2025-05-12T13:15:53.024605",
     "status": "completed"
    },
    "tags": []
   },
   "source": [
    "<div style=\"background-color: #FF5A5F; padding: 25px; border-radius: 10px;\">\n",
    "  <h1 style=\"color: white; font-size: 24px; font-weight: bold; margin: 0;text-align:center\">\n",
    "    🗼 Paris City Data Analysis\n",
    "  </h1>\n",
    "</div>\n"
   ]
  },
  {
   "cell_type": "code",
   "execution_count": 16,
   "id": "6818cca9",
   "metadata": {
    "execution": {
     "iopub.execute_input": "2025-05-12T13:15:53.052570Z",
     "iopub.status.busy": "2025-05-12T13:15:53.052309Z",
     "iopub.status.idle": "2025-05-12T13:15:53.066834Z",
     "shell.execute_reply": "2025-05-12T13:15:53.065900Z"
    },
    "papermill": {
     "duration": 0.025149,
     "end_time": "2025-05-12T13:15:53.068078",
     "exception": false,
     "start_time": "2025-05-12T13:15:53.042929",
     "status": "completed"
    },
    "tags": []
   },
   "outputs": [
    {
     "name": "stdout",
     "output_type": "stream",
     "text": [
      "<class 'pandas.core.frame.DataFrame'>\n",
      "Index: 64690 entries, 0 to 279711\n",
      "Data columns (total 5 columns):\n",
      " #   Column         Non-Null Count  Dtype         \n",
      "---  ------         --------------  -----         \n",
      " 0   host_since     64657 non-null  datetime64[ns]\n",
      " 1   neighbourhood  64690 non-null  object        \n",
      " 2   city           64690 non-null  object        \n",
      " 3   accommodates   64690 non-null  int64         \n",
      " 4   price          64690 non-null  int64         \n",
      "dtypes: datetime64[ns](1), int64(2), object(2)\n",
      "memory usage: 3.0+ MB\n"
     ]
    }
   ],
   "source": [
    "paris_listing.info()\n"
   ]
  },
  {
   "cell_type": "code",
   "execution_count": 17,
   "id": "2cc5e278",
   "metadata": {
    "execution": {
     "iopub.execute_input": "2025-05-12T13:15:53.088070Z",
     "iopub.status.busy": "2025-05-12T13:15:53.087841Z",
     "iopub.status.idle": "2025-05-12T13:15:53.096388Z",
     "shell.execute_reply": "2025-05-12T13:15:53.095532Z"
    },
    "papermill": {
     "duration": 0.01992,
     "end_time": "2025-05-12T13:15:53.097618",
     "exception": false,
     "start_time": "2025-05-12T13:15:53.077698",
     "status": "completed"
    },
    "tags": []
   },
   "outputs": [
    {
     "data": {
      "text/html": [
       "<div>\n",
       "<style scoped>\n",
       "    .dataframe tbody tr th:only-of-type {\n",
       "        vertical-align: middle;\n",
       "    }\n",
       "\n",
       "    .dataframe tbody tr th {\n",
       "        vertical-align: top;\n",
       "    }\n",
       "\n",
       "    .dataframe thead th {\n",
       "        text-align: right;\n",
       "    }\n",
       "</style>\n",
       "<table border=\"1\" class=\"dataframe\">\n",
       "  <thead>\n",
       "    <tr style=\"text-align: right;\">\n",
       "      <th></th>\n",
       "      <th>host_since</th>\n",
       "      <th>neighbourhood</th>\n",
       "      <th>city</th>\n",
       "      <th>accommodates</th>\n",
       "      <th>price</th>\n",
       "    </tr>\n",
       "  </thead>\n",
       "  <tbody>\n",
       "    <tr>\n",
       "      <th>0</th>\n",
       "      <td>2011-12-03</td>\n",
       "      <td>Buttes-Montmartre</td>\n",
       "      <td>Paris</td>\n",
       "      <td>2</td>\n",
       "      <td>53</td>\n",
       "    </tr>\n",
       "    <tr>\n",
       "      <th>1</th>\n",
       "      <td>2013-11-29</td>\n",
       "      <td>Buttes-Montmartre</td>\n",
       "      <td>Paris</td>\n",
       "      <td>2</td>\n",
       "      <td>120</td>\n",
       "    </tr>\n",
       "    <tr>\n",
       "      <th>2</th>\n",
       "      <td>2014-07-31</td>\n",
       "      <td>Elysee</td>\n",
       "      <td>Paris</td>\n",
       "      <td>2</td>\n",
       "      <td>89</td>\n",
       "    </tr>\n",
       "    <tr>\n",
       "      <th>3</th>\n",
       "      <td>2013-12-17</td>\n",
       "      <td>Vaugirard</td>\n",
       "      <td>Paris</td>\n",
       "      <td>2</td>\n",
       "      <td>58</td>\n",
       "    </tr>\n",
       "    <tr>\n",
       "      <th>4</th>\n",
       "      <td>2014-12-14</td>\n",
       "      <td>Passy</td>\n",
       "      <td>Paris</td>\n",
       "      <td>2</td>\n",
       "      <td>60</td>\n",
       "    </tr>\n",
       "  </tbody>\n",
       "</table>\n",
       "</div>"
      ],
      "text/plain": [
       "  host_since      neighbourhood   city  accommodates  price\n",
       "0 2011-12-03  Buttes-Montmartre  Paris             2     53\n",
       "1 2013-11-29  Buttes-Montmartre  Paris             2    120\n",
       "2 2014-07-31             Elysee  Paris             2     89\n",
       "3 2013-12-17          Vaugirard  Paris             2     58\n",
       "4 2014-12-14              Passy  Paris             2     60"
      ]
     },
     "execution_count": 17,
     "metadata": {},
     "output_type": "execute_result"
    }
   ],
   "source": [
    "paris_listing.head()"
   ]
  },
  {
   "cell_type": "markdown",
   "id": "4021cd28",
   "metadata": {
    "papermill": {
     "duration": 0.009354,
     "end_time": "2025-05-12T13:15:53.116622",
     "exception": false,
     "start_time": "2025-05-12T13:15:53.107268",
     "status": "completed"
    },
    "tags": []
   },
   "source": [
    "<div style=\"background-color: #FF5A5F; padding: 25px; border-radius: 10px;\">\n",
    "  <h1 style=\"color: white; font-size: 24px; font-weight: bold; margin: 0;text-align:center\">\n",
    "    🔍 Checking if There Are Missing Values in the Dataset\n",
    "  </h1>\n",
    "</div>\n"
   ]
  },
  {
   "cell_type": "code",
   "execution_count": 18,
   "id": "587ff690",
   "metadata": {
    "execution": {
     "iopub.execute_input": "2025-05-12T13:15:53.135919Z",
     "iopub.status.busy": "2025-05-12T13:15:53.135742Z",
     "iopub.status.idle": "2025-05-12T13:15:53.147272Z",
     "shell.execute_reply": "2025-05-12T13:15:53.146524Z"
    },
    "papermill": {
     "duration": 0.022622,
     "end_time": "2025-05-12T13:15:53.148488",
     "exception": false,
     "start_time": "2025-05-12T13:15:53.125866",
     "status": "completed"
    },
    "tags": []
   },
   "outputs": [
    {
     "data": {
      "text/plain": [
       "host_since       33\n",
       "neighbourhood     0\n",
       "city              0\n",
       "accommodates      0\n",
       "price             0\n",
       "dtype: int64"
      ]
     },
     "execution_count": 18,
     "metadata": {},
     "output_type": "execute_result"
    }
   ],
   "source": [
    "# isna() act as bool , return true is the value is NULL else false\n",
    "paris_listing.isna().sum()\n"
   ]
  },
  {
   "cell_type": "code",
   "execution_count": 19,
   "id": "96a65736",
   "metadata": {
    "execution": {
     "iopub.execute_input": "2025-05-12T13:15:53.168900Z",
     "iopub.status.busy": "2025-05-12T13:15:53.168681Z",
     "iopub.status.idle": "2025-05-12T13:15:53.181775Z",
     "shell.execute_reply": "2025-05-12T13:15:53.181176Z"
    },
    "papermill": {
     "duration": 0.024977,
     "end_time": "2025-05-12T13:15:53.182859",
     "exception": false,
     "start_time": "2025-05-12T13:15:53.157882",
     "status": "completed"
    },
    "tags": []
   },
   "outputs": [],
   "source": [
    "# there are few null values in host_since()\n",
    "paris_listing.dropna(how='any',inplace=True)"
   ]
  },
  {
   "cell_type": "code",
   "execution_count": 20,
   "id": "1b7cd972",
   "metadata": {
    "execution": {
     "iopub.execute_input": "2025-05-12T13:15:53.203661Z",
     "iopub.status.busy": "2025-05-12T13:15:53.203437Z",
     "iopub.status.idle": "2025-05-12T13:15:53.216006Z",
     "shell.execute_reply": "2025-05-12T13:15:53.215371Z"
    },
    "papermill": {
     "duration": 0.024387,
     "end_time": "2025-05-12T13:15:53.217231",
     "exception": false,
     "start_time": "2025-05-12T13:15:53.192844",
     "status": "completed"
    },
    "tags": []
   },
   "outputs": [
    {
     "data": {
      "text/plain": [
       "host_since       0\n",
       "neighbourhood    0\n",
       "city             0\n",
       "accommodates     0\n",
       "price            0\n",
       "dtype: int64"
      ]
     },
     "execution_count": 20,
     "metadata": {},
     "output_type": "execute_result"
    }
   ],
   "source": [
    "paris_listing.isna().sum()"
   ]
  },
  {
   "cell_type": "code",
   "execution_count": 21,
   "id": "0965004a",
   "metadata": {
    "execution": {
     "iopub.execute_input": "2025-05-12T13:15:53.239252Z",
     "iopub.status.busy": "2025-05-12T13:15:53.239035Z",
     "iopub.status.idle": "2025-05-12T13:15:53.267419Z",
     "shell.execute_reply": "2025-05-12T13:15:53.266761Z"
    },
    "papermill": {
     "duration": 0.040061,
     "end_time": "2025-05-12T13:15:53.268562",
     "exception": false,
     "start_time": "2025-05-12T13:15:53.228501",
     "status": "completed"
    },
    "tags": []
   },
   "outputs": [
    {
     "data": {
      "text/html": [
       "<div>\n",
       "<style scoped>\n",
       "    .dataframe tbody tr th:only-of-type {\n",
       "        vertical-align: middle;\n",
       "    }\n",
       "\n",
       "    .dataframe tbody tr th {\n",
       "        vertical-align: top;\n",
       "    }\n",
       "\n",
       "    .dataframe thead th {\n",
       "        text-align: right;\n",
       "    }\n",
       "</style>\n",
       "<table border=\"1\" class=\"dataframe\">\n",
       "  <thead>\n",
       "    <tr style=\"text-align: right;\">\n",
       "      <th></th>\n",
       "      <th>host_since</th>\n",
       "      <th>accommodates</th>\n",
       "      <th>price</th>\n",
       "    </tr>\n",
       "  </thead>\n",
       "  <tbody>\n",
       "    <tr>\n",
       "      <th>count</th>\n",
       "      <td>64657</td>\n",
       "      <td>64657.000000</td>\n",
       "      <td>64657.000000</td>\n",
       "    </tr>\n",
       "    <tr>\n",
       "      <th>mean</th>\n",
       "      <td>2015-11-01 11:06:05.528867584</td>\n",
       "      <td>3.037877</td>\n",
       "      <td>113.104614</td>\n",
       "    </tr>\n",
       "    <tr>\n",
       "      <th>min</th>\n",
       "      <td>2008-08-30 00:00:00</td>\n",
       "      <td>0.000000</td>\n",
       "      <td>0.000000</td>\n",
       "    </tr>\n",
       "    <tr>\n",
       "      <th>25%</th>\n",
       "      <td>2014-03-09 00:00:00</td>\n",
       "      <td>2.000000</td>\n",
       "      <td>59.000000</td>\n",
       "    </tr>\n",
       "    <tr>\n",
       "      <th>50%</th>\n",
       "      <td>2015-07-07 00:00:00</td>\n",
       "      <td>2.000000</td>\n",
       "      <td>80.000000</td>\n",
       "    </tr>\n",
       "    <tr>\n",
       "      <th>75%</th>\n",
       "      <td>2017-05-29 00:00:00</td>\n",
       "      <td>4.000000</td>\n",
       "      <td>120.000000</td>\n",
       "    </tr>\n",
       "    <tr>\n",
       "      <th>max</th>\n",
       "      <td>2021-02-07 00:00:00</td>\n",
       "      <td>16.000000</td>\n",
       "      <td>12000.000000</td>\n",
       "    </tr>\n",
       "    <tr>\n",
       "      <th>std</th>\n",
       "      <td>NaN</td>\n",
       "      <td>1.588382</td>\n",
       "      <td>214.479626</td>\n",
       "    </tr>\n",
       "  </tbody>\n",
       "</table>\n",
       "</div>"
      ],
      "text/plain": [
       "                          host_since  accommodates         price\n",
       "count                          64657  64657.000000  64657.000000\n",
       "mean   2015-11-01 11:06:05.528867584      3.037877    113.104614\n",
       "min              2008-08-30 00:00:00      0.000000      0.000000\n",
       "25%              2014-03-09 00:00:00      2.000000     59.000000\n",
       "50%              2015-07-07 00:00:00      2.000000     80.000000\n",
       "75%              2017-05-29 00:00:00      4.000000    120.000000\n",
       "max              2021-02-07 00:00:00     16.000000  12000.000000\n",
       "std                              NaN      1.588382    214.479626"
      ]
     },
     "execution_count": 21,
     "metadata": {},
     "output_type": "execute_result"
    }
   ],
   "source": [
    "paris_listing.describe()"
   ]
  },
  {
   "cell_type": "code",
   "execution_count": 22,
   "id": "464dd246",
   "metadata": {
    "execution": {
     "iopub.execute_input": "2025-05-12T13:15:53.289343Z",
     "iopub.status.busy": "2025-05-12T13:15:53.288826Z",
     "iopub.status.idle": "2025-05-12T13:15:53.296287Z",
     "shell.execute_reply": "2025-05-12T13:15:53.295683Z"
    },
    "papermill": {
     "duration": 0.018609,
     "end_time": "2025-05-12T13:15:53.297406",
     "exception": false,
     "start_time": "2025-05-12T13:15:53.278797",
     "status": "completed"
    },
    "tags": []
   },
   "outputs": [
    {
     "data": {
      "text/html": [
       "<div>\n",
       "<style scoped>\n",
       "    .dataframe tbody tr th:only-of-type {\n",
       "        vertical-align: middle;\n",
       "    }\n",
       "\n",
       "    .dataframe tbody tr th {\n",
       "        vertical-align: top;\n",
       "    }\n",
       "\n",
       "    .dataframe thead th {\n",
       "        text-align: right;\n",
       "    }\n",
       "</style>\n",
       "<table border=\"1\" class=\"dataframe\">\n",
       "  <thead>\n",
       "    <tr style=\"text-align: right;\">\n",
       "      <th></th>\n",
       "      <th>host_since</th>\n",
       "      <th>neighbourhood</th>\n",
       "      <th>city</th>\n",
       "      <th>accommodates</th>\n",
       "      <th>price</th>\n",
       "    </tr>\n",
       "  </thead>\n",
       "  <tbody>\n",
       "    <tr>\n",
       "      <th>0</th>\n",
       "      <td>2011-12-03</td>\n",
       "      <td>Buttes-Montmartre</td>\n",
       "      <td>Paris</td>\n",
       "      <td>2</td>\n",
       "      <td>53</td>\n",
       "    </tr>\n",
       "    <tr>\n",
       "      <th>1</th>\n",
       "      <td>2013-11-29</td>\n",
       "      <td>Buttes-Montmartre</td>\n",
       "      <td>Paris</td>\n",
       "      <td>2</td>\n",
       "      <td>120</td>\n",
       "    </tr>\n",
       "    <tr>\n",
       "      <th>2</th>\n",
       "      <td>2014-07-31</td>\n",
       "      <td>Elysee</td>\n",
       "      <td>Paris</td>\n",
       "      <td>2</td>\n",
       "      <td>89</td>\n",
       "    </tr>\n",
       "    <tr>\n",
       "      <th>3</th>\n",
       "      <td>2013-12-17</td>\n",
       "      <td>Vaugirard</td>\n",
       "      <td>Paris</td>\n",
       "      <td>2</td>\n",
       "      <td>58</td>\n",
       "    </tr>\n",
       "    <tr>\n",
       "      <th>4</th>\n",
       "      <td>2014-12-14</td>\n",
       "      <td>Passy</td>\n",
       "      <td>Paris</td>\n",
       "      <td>2</td>\n",
       "      <td>60</td>\n",
       "    </tr>\n",
       "  </tbody>\n",
       "</table>\n",
       "</div>"
      ],
      "text/plain": [
       "  host_since      neighbourhood   city  accommodates  price\n",
       "0 2011-12-03  Buttes-Montmartre  Paris             2     53\n",
       "1 2013-11-29  Buttes-Montmartre  Paris             2    120\n",
       "2 2014-07-31             Elysee  Paris             2     89\n",
       "3 2013-12-17          Vaugirard  Paris             2     58\n",
       "4 2014-12-14              Passy  Paris             2     60"
      ]
     },
     "execution_count": 22,
     "metadata": {},
     "output_type": "execute_result"
    }
   ],
   "source": [
    "paris_listing.head()"
   ]
  },
  {
   "cell_type": "code",
   "execution_count": 23,
   "id": "ba3f0b5a",
   "metadata": {
    "execution": {
     "iopub.execute_input": "2025-05-12T13:15:53.317126Z",
     "iopub.status.busy": "2025-05-12T13:15:53.316948Z",
     "iopub.status.idle": "2025-05-12T13:15:53.339774Z",
     "shell.execute_reply": "2025-05-12T13:15:53.339049Z"
    },
    "papermill": {
     "duration": 0.033924,
     "end_time": "2025-05-12T13:15:53.340836",
     "exception": false,
     "start_time": "2025-05-12T13:15:53.306912",
     "status": "completed"
    },
    "tags": []
   },
   "outputs": [
    {
     "data": {
      "text/html": [
       "<div>\n",
       "<style scoped>\n",
       "    .dataframe tbody tr th:only-of-type {\n",
       "        vertical-align: middle;\n",
       "    }\n",
       "\n",
       "    .dataframe tbody tr th {\n",
       "        vertical-align: top;\n",
       "    }\n",
       "\n",
       "    .dataframe thead th {\n",
       "        text-align: right;\n",
       "    }\n",
       "</style>\n",
       "<table border=\"1\" class=\"dataframe\">\n",
       "  <thead>\n",
       "    <tr style=\"text-align: right;\">\n",
       "      <th></th>\n",
       "      <th>neighbourhood</th>\n",
       "      <th>city</th>\n",
       "    </tr>\n",
       "  </thead>\n",
       "  <tbody>\n",
       "    <tr>\n",
       "      <th>count</th>\n",
       "      <td>64657</td>\n",
       "      <td>64657</td>\n",
       "    </tr>\n",
       "    <tr>\n",
       "      <th>unique</th>\n",
       "      <td>20</td>\n",
       "      <td>1</td>\n",
       "    </tr>\n",
       "    <tr>\n",
       "      <th>top</th>\n",
       "      <td>Buttes-Montmartre</td>\n",
       "      <td>Paris</td>\n",
       "    </tr>\n",
       "    <tr>\n",
       "      <th>freq</th>\n",
       "      <td>7232</td>\n",
       "      <td>64657</td>\n",
       "    </tr>\n",
       "  </tbody>\n",
       "</table>\n",
       "</div>"
      ],
      "text/plain": [
       "            neighbourhood   city\n",
       "count               64657  64657\n",
       "unique                 20      1\n",
       "top     Buttes-Montmartre  Paris\n",
       "freq                 7232  64657"
      ]
     },
     "execution_count": 23,
     "metadata": {},
     "output_type": "execute_result"
    }
   ],
   "source": [
    "paris_listing.describe(include='object')"
   ]
  },
  {
   "cell_type": "code",
   "execution_count": 24,
   "id": "331ffb46",
   "metadata": {
    "execution": {
     "iopub.execute_input": "2025-05-12T13:15:53.362166Z",
     "iopub.status.busy": "2025-05-12T13:15:53.361929Z",
     "iopub.status.idle": "2025-05-12T13:15:53.372070Z",
     "shell.execute_reply": "2025-05-12T13:15:53.371243Z"
    },
    "papermill": {
     "duration": 0.022151,
     "end_time": "2025-05-12T13:15:53.373212",
     "exception": false,
     "start_time": "2025-05-12T13:15:53.351061",
     "status": "completed"
    },
    "tags": []
   },
   "outputs": [
    {
     "data": {
      "text/html": [
       "<div>\n",
       "<style scoped>\n",
       "    .dataframe tbody tr th:only-of-type {\n",
       "        vertical-align: middle;\n",
       "    }\n",
       "\n",
       "    .dataframe tbody tr th {\n",
       "        vertical-align: top;\n",
       "    }\n",
       "\n",
       "    .dataframe thead th {\n",
       "        text-align: right;\n",
       "    }\n",
       "</style>\n",
       "<table border=\"1\" class=\"dataframe\">\n",
       "  <thead>\n",
       "    <tr style=\"text-align: right;\">\n",
       "      <th></th>\n",
       "      <th>host_since</th>\n",
       "      <th>neighbourhood</th>\n",
       "      <th>city</th>\n",
       "      <th>accommodates</th>\n",
       "      <th>price</th>\n",
       "    </tr>\n",
       "  </thead>\n",
       "  <tbody>\n",
       "    <tr>\n",
       "      <th>98209</th>\n",
       "      <td>2020-07-20</td>\n",
       "      <td>Pantheon</td>\n",
       "      <td>Paris</td>\n",
       "      <td>0</td>\n",
       "      <td>0</td>\n",
       "    </tr>\n",
       "    <tr>\n",
       "      <th>203257</th>\n",
       "      <td>2020-02-04</td>\n",
       "      <td>Batignolles-Monceau</td>\n",
       "      <td>Paris</td>\n",
       "      <td>0</td>\n",
       "      <td>0</td>\n",
       "    </tr>\n",
       "    <tr>\n",
       "      <th>203258</th>\n",
       "      <td>2016-10-17</td>\n",
       "      <td>Opera</td>\n",
       "      <td>Paris</td>\n",
       "      <td>0</td>\n",
       "      <td>0</td>\n",
       "    </tr>\n",
       "    <tr>\n",
       "      <th>203259</th>\n",
       "      <td>2020-04-24</td>\n",
       "      <td>Luxembourg</td>\n",
       "      <td>Paris</td>\n",
       "      <td>0</td>\n",
       "      <td>0</td>\n",
       "    </tr>\n",
       "    <tr>\n",
       "      <th>203260</th>\n",
       "      <td>2020-04-24</td>\n",
       "      <td>Vaugirard</td>\n",
       "      <td>Paris</td>\n",
       "      <td>0</td>\n",
       "      <td>0</td>\n",
       "    </tr>\n",
       "  </tbody>\n",
       "</table>\n",
       "</div>"
      ],
      "text/plain": [
       "       host_since        neighbourhood   city  accommodates  price\n",
       "98209  2020-07-20             Pantheon  Paris             0      0\n",
       "203257 2020-02-04  Batignolles-Monceau  Paris             0      0\n",
       "203258 2016-10-17                Opera  Paris             0      0\n",
       "203259 2020-04-24           Luxembourg  Paris             0      0\n",
       "203260 2020-04-24            Vaugirard  Paris             0      0"
      ]
     },
     "execution_count": 24,
     "metadata": {},
     "output_type": "execute_result"
    }
   ],
   "source": [
    "(paris_listing['accommodates'] == 0).sum() # there are 54 listing which has 0 accomodates in listings\n",
    "paris_listing[(paris_listing['accommodates'] == 0)].head()"
   ]
  },
  {
   "cell_type": "code",
   "execution_count": 25,
   "id": "8cfc7046",
   "metadata": {
    "execution": {
     "iopub.execute_input": "2025-05-12T13:15:53.395184Z",
     "iopub.status.busy": "2025-05-12T13:15:53.394936Z",
     "iopub.status.idle": "2025-05-12T13:15:53.402230Z",
     "shell.execute_reply": "2025-05-12T13:15:53.401646Z"
    },
    "papermill": {
     "duration": 0.019641,
     "end_time": "2025-05-12T13:15:53.403474",
     "exception": false,
     "start_time": "2025-05-12T13:15:53.383833",
     "status": "completed"
    },
    "tags": []
   },
   "outputs": [
    {
     "data": {
      "text/plain": [
       "host_since       54\n",
       "neighbourhood    54\n",
       "city             54\n",
       "accommodates     54\n",
       "price            54\n",
       "dtype: int64"
      ]
     },
     "execution_count": 25,
     "metadata": {},
     "output_type": "execute_result"
    }
   ],
   "source": [
    "paris_listing[paris_listing['accommodates'] == 0].count(axis=0)"
   ]
  },
  {
   "cell_type": "code",
   "execution_count": 26,
   "id": "eb477ddf",
   "metadata": {
    "execution": {
     "iopub.execute_input": "2025-05-12T13:15:53.425685Z",
     "iopub.status.busy": "2025-05-12T13:15:53.425459Z",
     "iopub.status.idle": "2025-05-12T13:15:53.430389Z",
     "shell.execute_reply": "2025-05-12T13:15:53.429787Z"
    },
    "papermill": {
     "duration": 0.017371,
     "end_time": "2025-05-12T13:15:53.431481",
     "exception": false,
     "start_time": "2025-05-12T13:15:53.414110",
     "status": "completed"
    },
    "tags": []
   },
   "outputs": [
    {
     "data": {
      "text/plain": [
       "62"
      ]
     },
     "execution_count": 26,
     "metadata": {},
     "output_type": "execute_result"
    }
   ],
   "source": [
    "(paris_listing['price'] == 0).sum() # 62 listint have price listing as Zero\n"
   ]
  },
  {
   "cell_type": "code",
   "execution_count": 27,
   "id": "00e01f40",
   "metadata": {
    "execution": {
     "iopub.execute_input": "2025-05-12T13:15:53.453955Z",
     "iopub.status.busy": "2025-05-12T13:15:53.453650Z",
     "iopub.status.idle": "2025-05-12T13:15:53.460575Z",
     "shell.execute_reply": "2025-05-12T13:15:53.459968Z"
    },
    "papermill": {
     "duration": 0.019526,
     "end_time": "2025-05-12T13:15:53.461819",
     "exception": false,
     "start_time": "2025-05-12T13:15:53.442293",
     "status": "completed"
    },
    "tags": []
   },
   "outputs": [
    {
     "data": {
      "text/plain": [
       "54"
      ]
     },
     "execution_count": 27,
     "metadata": {},
     "output_type": "execute_result"
    }
   ],
   "source": [
    "((paris_listing['price'] == 0) & (paris_listing['accommodates'] == 0)).sum() # condtion where both the price and accommodation is zero"
   ]
  },
  {
   "cell_type": "code",
   "execution_count": 28,
   "id": "15d66421",
   "metadata": {
    "execution": {
     "iopub.execute_input": "2025-05-12T13:15:53.483417Z",
     "iopub.status.busy": "2025-05-12T13:15:53.483091Z",
     "iopub.status.idle": "2025-05-12T13:15:53.490471Z",
     "shell.execute_reply": "2025-05-12T13:15:53.489907Z"
    },
    "papermill": {
     "duration": 0.019419,
     "end_time": "2025-05-12T13:15:53.491622",
     "exception": false,
     "start_time": "2025-05-12T13:15:53.472203",
     "status": "completed"
    },
    "tags": []
   },
   "outputs": [
    {
     "data": {
      "text/plain": [
       "host_since       54\n",
       "neighbourhood    54\n",
       "city             54\n",
       "accommodates     54\n",
       "price            54\n",
       "dtype: int64"
      ]
     },
     "execution_count": 28,
     "metadata": {},
     "output_type": "execute_result"
    }
   ],
   "source": [
    "paris_listing[(paris_listing['price'] == 0) & (paris_listing['accommodates'] == 0)].count(axis=0)"
   ]
  },
  {
   "cell_type": "code",
   "execution_count": 29,
   "id": "cc00bc06",
   "metadata": {
    "execution": {
     "iopub.execute_input": "2025-05-12T13:15:53.513448Z",
     "iopub.status.busy": "2025-05-12T13:15:53.512794Z",
     "iopub.status.idle": "2025-05-12T13:15:53.519719Z",
     "shell.execute_reply": "2025-05-12T13:15:53.519078Z"
    },
    "papermill": {
     "duration": 0.018688,
     "end_time": "2025-05-12T13:15:53.520758",
     "exception": false,
     "start_time": "2025-05-12T13:15:53.502070",
     "status": "completed"
    },
    "tags": []
   },
   "outputs": [
    {
     "data": {
      "text/plain": [
       "host_since       8\n",
       "neighbourhood    8\n",
       "city             8\n",
       "accommodates     8\n",
       "price            8\n",
       "dtype: int64"
      ]
     },
     "execution_count": 29,
     "metadata": {},
     "output_type": "execute_result"
    }
   ],
   "source": [
    "#  8 values has accomondates listing but price is zero\n",
    "paris_listing[(paris_listing['price'] == 0) & ~(paris_listing['accommodates'] == 0)].count(axis=0)"
   ]
  },
  {
   "cell_type": "code",
   "execution_count": 30,
   "id": "a1d346ba",
   "metadata": {
    "execution": {
     "iopub.execute_input": "2025-05-12T13:15:53.541550Z",
     "iopub.status.busy": "2025-05-12T13:15:53.541337Z",
     "iopub.status.idle": "2025-05-12T13:15:53.546950Z",
     "shell.execute_reply": "2025-05-12T13:15:53.546145Z"
    },
    "papermill": {
     "duration": 0.017611,
     "end_time": "2025-05-12T13:15:53.548225",
     "exception": false,
     "start_time": "2025-05-12T13:15:53.530614",
     "status": "completed"
    },
    "tags": []
   },
   "outputs": [],
   "source": [
    "paris_listing=paris_listing[~(paris_listing['price'] == 0)] # reassigning the dataframe where price is not zero, "
   ]
  },
  {
   "cell_type": "code",
   "execution_count": 31,
   "id": "b8e0882d",
   "metadata": {
    "execution": {
     "iopub.execute_input": "2025-05-12T13:15:53.569550Z",
     "iopub.status.busy": "2025-05-12T13:15:53.569333Z",
     "iopub.status.idle": "2025-05-12T13:15:53.583638Z",
     "shell.execute_reply": "2025-05-12T13:15:53.582902Z"
    },
    "papermill": {
     "duration": 0.026074,
     "end_time": "2025-05-12T13:15:53.584740",
     "exception": false,
     "start_time": "2025-05-12T13:15:53.558666",
     "status": "completed"
    },
    "tags": []
   },
   "outputs": [
    {
     "name": "stdout",
     "output_type": "stream",
     "text": [
      "<class 'pandas.core.frame.DataFrame'>\n",
      "Index: 64595 entries, 0 to 279711\n",
      "Data columns (total 5 columns):\n",
      " #   Column         Non-Null Count  Dtype         \n",
      "---  ------         --------------  -----         \n",
      " 0   host_since     64595 non-null  datetime64[ns]\n",
      " 1   neighbourhood  64595 non-null  object        \n",
      " 2   city           64595 non-null  object        \n",
      " 3   accommodates   64595 non-null  int64         \n",
      " 4   price          64595 non-null  int64         \n",
      "dtypes: datetime64[ns](1), int64(2), object(2)\n",
      "memory usage: 3.0+ MB\n"
     ]
    }
   ],
   "source": [
    "paris_listing.info()"
   ]
  },
  {
   "cell_type": "markdown",
   "id": "6111e2a5",
   "metadata": {
    "papermill": {
     "duration": 0.01086,
     "end_time": "2025-05-12T13:15:53.606722",
     "exception": false,
     "start_time": "2025-05-12T13:15:53.595862",
     "status": "completed"
    },
    "tags": []
   },
   "source": [
    "<div style=\"background-color: #FF5A5F; padding: 25px; border-radius: 10px;\">\n",
    "  <h1 style=\"color: white; font-size: 24px; font-weight: bold; margin: 0;text-align:center\">\n",
    "    💰 Finding Average Price of AirBnB in Paris by Localities\n",
    "  </h1>\n",
    "</div>\n"
   ]
  },
  {
   "cell_type": "code",
   "execution_count": 32,
   "id": "c2fe394e",
   "metadata": {
    "execution": {
     "iopub.execute_input": "2025-05-12T13:15:53.627852Z",
     "iopub.status.busy": "2025-05-12T13:15:53.627256Z",
     "iopub.status.idle": "2025-05-12T13:15:53.640955Z",
     "shell.execute_reply": "2025-05-12T13:15:53.640399Z"
    },
    "papermill": {
     "duration": 0.024785,
     "end_time": "2025-05-12T13:15:53.642054",
     "exception": false,
     "start_time": "2025-05-12T13:15:53.617269",
     "status": "completed"
    },
    "tags": []
   },
   "outputs": [
    {
     "data": {
      "text/html": [
       "<div>\n",
       "<style scoped>\n",
       "    .dataframe tbody tr th:only-of-type {\n",
       "        vertical-align: middle;\n",
       "    }\n",
       "\n",
       "    .dataframe tbody tr th {\n",
       "        vertical-align: top;\n",
       "    }\n",
       "\n",
       "    .dataframe thead th {\n",
       "        text-align: right;\n",
       "    }\n",
       "</style>\n",
       "<table border=\"1\" class=\"dataframe\">\n",
       "  <thead>\n",
       "    <tr style=\"text-align: right;\">\n",
       "      <th></th>\n",
       "      <th>price</th>\n",
       "    </tr>\n",
       "    <tr>\n",
       "      <th>neighbourhood</th>\n",
       "      <th></th>\n",
       "    </tr>\n",
       "  </thead>\n",
       "  <tbody>\n",
       "    <tr>\n",
       "      <th>Elysee</th>\n",
       "      <td>211.37</td>\n",
       "    </tr>\n",
       "    <tr>\n",
       "      <th>Louvre</th>\n",
       "      <td>175.75</td>\n",
       "    </tr>\n",
       "    <tr>\n",
       "      <th>Passy</th>\n",
       "      <td>161.29</td>\n",
       "    </tr>\n",
       "    <tr>\n",
       "      <th>Palais-Bourbon</th>\n",
       "      <td>157.51</td>\n",
       "    </tr>\n",
       "    <tr>\n",
       "      <th>Luxembourg</th>\n",
       "      <td>155.79</td>\n",
       "    </tr>\n",
       "    <tr>\n",
       "      <th>Bourse</th>\n",
       "      <td>149.63</td>\n",
       "    </tr>\n",
       "    <tr>\n",
       "      <th>Hotel-de-Ville</th>\n",
       "      <td>144.52</td>\n",
       "    </tr>\n",
       "    <tr>\n",
       "      <th>Temple</th>\n",
       "      <td>138.43</td>\n",
       "    </tr>\n",
       "    <tr>\n",
       "      <th>Pantheon</th>\n",
       "      <td>122.98</td>\n",
       "    </tr>\n",
       "    <tr>\n",
       "      <th>Opera</th>\n",
       "      <td>119.20</td>\n",
       "    </tr>\n",
       "    <tr>\n",
       "      <th>Vaugirard</th>\n",
       "      <td>107.09</td>\n",
       "    </tr>\n",
       "    <tr>\n",
       "      <th>Enclos-St-Laurent</th>\n",
       "      <td>103.12</td>\n",
       "    </tr>\n",
       "    <tr>\n",
       "      <th>Batignolles-Monceau</th>\n",
       "      <td>102.69</td>\n",
       "    </tr>\n",
       "    <tr>\n",
       "      <th>Observatoire</th>\n",
       "      <td>102.00</td>\n",
       "    </tr>\n",
       "    <tr>\n",
       "      <th>Gobelins</th>\n",
       "      <td>98.11</td>\n",
       "    </tr>\n",
       "    <tr>\n",
       "      <th>Popincourt</th>\n",
       "      <td>90.55</td>\n",
       "    </tr>\n",
       "    <tr>\n",
       "      <th>Reuilly</th>\n",
       "      <td>89.13</td>\n",
       "    </tr>\n",
       "    <tr>\n",
       "      <th>Buttes-Montmartre</th>\n",
       "      <td>87.25</td>\n",
       "    </tr>\n",
       "    <tr>\n",
       "      <th>Buttes-Chaumont</th>\n",
       "      <td>82.69</td>\n",
       "    </tr>\n",
       "    <tr>\n",
       "      <th>Menilmontant</th>\n",
       "      <td>74.93</td>\n",
       "    </tr>\n",
       "  </tbody>\n",
       "</table>\n",
       "</div>"
      ],
      "text/plain": [
       "                      price\n",
       "neighbourhood              \n",
       "Elysee               211.37\n",
       "Louvre               175.75\n",
       "Passy                161.29\n",
       "Palais-Bourbon       157.51\n",
       "Luxembourg           155.79\n",
       "Bourse               149.63\n",
       "Hotel-de-Ville       144.52\n",
       "Temple               138.43\n",
       "Pantheon             122.98\n",
       "Opera                119.20\n",
       "Vaugirard            107.09\n",
       "Enclos-St-Laurent    103.12\n",
       "Batignolles-Monceau  102.69\n",
       "Observatoire         102.00\n",
       "Gobelins              98.11\n",
       "Popincourt            90.55\n",
       "Reuilly               89.13\n",
       "Buttes-Montmartre     87.25\n",
       "Buttes-Chaumont       82.69\n",
       "Menilmontant          74.93"
      ]
     },
     "execution_count": 32,
     "metadata": {},
     "output_type": "execute_result"
    }
   ],
   "source": [
    "# average price across various neighbourhood in paris\n",
    "paris_listing_neighbourhood=paris_listing.groupby('neighbourhood').agg({\"price\":\"mean\"}).round(2).sort_values(by='price',ascending=False)\n",
    "paris_listing_neighbourhood"
   ]
  },
  {
   "cell_type": "code",
   "execution_count": 33,
   "id": "2562d4f5",
   "metadata": {
    "execution": {
     "iopub.execute_input": "2025-05-12T13:15:53.663288Z",
     "iopub.status.busy": "2025-05-12T13:15:53.662877Z",
     "iopub.status.idle": "2025-05-12T13:15:53.671578Z",
     "shell.execute_reply": "2025-05-12T13:15:53.671048Z"
    },
    "papermill": {
     "duration": 0.020167,
     "end_time": "2025-05-12T13:15:53.672581",
     "exception": false,
     "start_time": "2025-05-12T13:15:53.652414",
     "status": "completed"
    },
    "tags": []
   },
   "outputs": [
    {
     "data": {
      "text/html": [
       "<div>\n",
       "<style scoped>\n",
       "    .dataframe tbody tr th:only-of-type {\n",
       "        vertical-align: middle;\n",
       "    }\n",
       "\n",
       "    .dataframe tbody tr th {\n",
       "        vertical-align: top;\n",
       "    }\n",
       "\n",
       "    .dataframe thead th {\n",
       "        text-align: right;\n",
       "    }\n",
       "</style>\n",
       "<table border=\"1\" class=\"dataframe\">\n",
       "  <thead>\n",
       "    <tr style=\"text-align: right;\">\n",
       "      <th></th>\n",
       "      <th>price</th>\n",
       "    </tr>\n",
       "    <tr>\n",
       "      <th>accommodates</th>\n",
       "      <th></th>\n",
       "    </tr>\n",
       "  </thead>\n",
       "  <tbody>\n",
       "    <tr>\n",
       "      <th>15</th>\n",
       "      <td>928.42</td>\n",
       "    </tr>\n",
       "    <tr>\n",
       "      <th>12</th>\n",
       "      <td>821.43</td>\n",
       "    </tr>\n",
       "    <tr>\n",
       "      <th>13</th>\n",
       "      <td>704.58</td>\n",
       "    </tr>\n",
       "    <tr>\n",
       "      <th>14</th>\n",
       "      <td>699.23</td>\n",
       "    </tr>\n",
       "    <tr>\n",
       "      <th>11</th>\n",
       "      <td>680.91</td>\n",
       "    </tr>\n",
       "    <tr>\n",
       "      <th>16</th>\n",
       "      <td>677.06</td>\n",
       "    </tr>\n",
       "    <tr>\n",
       "      <th>10</th>\n",
       "      <td>585.76</td>\n",
       "    </tr>\n",
       "    <tr>\n",
       "      <th>9</th>\n",
       "      <td>381.90</td>\n",
       "    </tr>\n",
       "    <tr>\n",
       "      <th>8</th>\n",
       "      <td>325.02</td>\n",
       "    </tr>\n",
       "    <tr>\n",
       "      <th>7</th>\n",
       "      <td>261.07</td>\n",
       "    </tr>\n",
       "    <tr>\n",
       "      <th>6</th>\n",
       "      <td>217.19</td>\n",
       "    </tr>\n",
       "    <tr>\n",
       "      <th>5</th>\n",
       "      <td>165.19</td>\n",
       "    </tr>\n",
       "    <tr>\n",
       "      <th>4</th>\n",
       "      <td>126.00</td>\n",
       "    </tr>\n",
       "    <tr>\n",
       "      <th>3</th>\n",
       "      <td>98.30</td>\n",
       "    </tr>\n",
       "    <tr>\n",
       "      <th>2</th>\n",
       "      <td>84.09</td>\n",
       "    </tr>\n",
       "    <tr>\n",
       "      <th>1</th>\n",
       "      <td>64.85</td>\n",
       "    </tr>\n",
       "  </tbody>\n",
       "</table>\n",
       "</div>"
      ],
      "text/plain": [
       "               price\n",
       "accommodates        \n",
       "15            928.42\n",
       "12            821.43\n",
       "13            704.58\n",
       "14            699.23\n",
       "11            680.91\n",
       "16            677.06\n",
       "10            585.76\n",
       "9             381.90\n",
       "8             325.02\n",
       "7             261.07\n",
       "6             217.19\n",
       "5             165.19\n",
       "4             126.00\n",
       "3              98.30\n",
       "2              84.09\n",
       "1              64.85"
      ]
     },
     "execution_count": 33,
     "metadata": {},
     "output_type": "execute_result"
    }
   ],
   "source": [
    "paris_listing_accommodates=paris_listing.groupby('accommodates').agg({\"price\":\"mean\"}).round(2).sort_values(by='price',ascending=False)\n",
    "paris_listing_accommodates\n",
    "# location ,outliers,property type"
   ]
  },
  {
   "cell_type": "code",
   "execution_count": 34,
   "id": "a5df19d5",
   "metadata": {
    "execution": {
     "iopub.execute_input": "2025-05-12T13:15:53.693222Z",
     "iopub.status.busy": "2025-05-12T13:15:53.692725Z",
     "iopub.status.idle": "2025-05-12T13:15:53.695517Z",
     "shell.execute_reply": "2025-05-12T13:15:53.694988Z"
    },
    "papermill": {
     "duration": 0.013975,
     "end_time": "2025-05-12T13:15:53.696566",
     "exception": false,
     "start_time": "2025-05-12T13:15:53.682591",
     "status": "completed"
    },
    "tags": []
   },
   "outputs": [],
   "source": [
    "# inside of paris , th price of AirBbB is directly impacted bu the populatiry of the tourist place or the view\n",
    "# of Eiffel tower. We need to futher see if the prices are increasing when the regulations are imposed"
   ]
  },
  {
   "cell_type": "code",
   "execution_count": 35,
   "id": "2f6591b3",
   "metadata": {
    "execution": {
     "iopub.execute_input": "2025-05-12T13:15:53.716795Z",
     "iopub.status.busy": "2025-05-12T13:15:53.716394Z",
     "iopub.status.idle": "2025-05-12T13:15:53.728609Z",
     "shell.execute_reply": "2025-05-12T13:15:53.727750Z"
    },
    "papermill": {
     "duration": 0.023491,
     "end_time": "2025-05-12T13:15:53.729775",
     "exception": false,
     "start_time": "2025-05-12T13:15:53.706284",
     "status": "completed"
    },
    "tags": []
   },
   "outputs": [
    {
     "data": {
      "text/html": [
       "<div>\n",
       "<style scoped>\n",
       "    .dataframe tbody tr th:only-of-type {\n",
       "        vertical-align: middle;\n",
       "    }\n",
       "\n",
       "    .dataframe tbody tr th {\n",
       "        vertical-align: top;\n",
       "    }\n",
       "\n",
       "    .dataframe thead th {\n",
       "        text-align: right;\n",
       "    }\n",
       "</style>\n",
       "<table border=\"1\" class=\"dataframe\">\n",
       "  <thead>\n",
       "    <tr style=\"text-align: right;\">\n",
       "      <th></th>\n",
       "      <th>price</th>\n",
       "    </tr>\n",
       "    <tr>\n",
       "      <th>accommodates</th>\n",
       "      <th></th>\n",
       "    </tr>\n",
       "  </thead>\n",
       "  <tbody>\n",
       "    <tr>\n",
       "      <th>14</th>\n",
       "      <td>971.00</td>\n",
       "    </tr>\n",
       "    <tr>\n",
       "      <th>13</th>\n",
       "      <td>842.50</td>\n",
       "    </tr>\n",
       "    <tr>\n",
       "      <th>11</th>\n",
       "      <td>805.00</td>\n",
       "    </tr>\n",
       "    <tr>\n",
       "      <th>16</th>\n",
       "      <td>800.00</td>\n",
       "    </tr>\n",
       "    <tr>\n",
       "      <th>12</th>\n",
       "      <td>529.62</td>\n",
       "    </tr>\n",
       "    <tr>\n",
       "      <th>10</th>\n",
       "      <td>500.86</td>\n",
       "    </tr>\n",
       "    <tr>\n",
       "      <th>9</th>\n",
       "      <td>440.27</td>\n",
       "    </tr>\n",
       "    <tr>\n",
       "      <th>7</th>\n",
       "      <td>411.54</td>\n",
       "    </tr>\n",
       "    <tr>\n",
       "      <th>8</th>\n",
       "      <td>405.52</td>\n",
       "    </tr>\n",
       "    <tr>\n",
       "      <th>6</th>\n",
       "      <td>355.51</td>\n",
       "    </tr>\n",
       "    <tr>\n",
       "      <th>5</th>\n",
       "      <td>328.82</td>\n",
       "    </tr>\n",
       "    <tr>\n",
       "      <th>4</th>\n",
       "      <td>212.10</td>\n",
       "    </tr>\n",
       "    <tr>\n",
       "      <th>2</th>\n",
       "      <td>155.10</td>\n",
       "    </tr>\n",
       "    <tr>\n",
       "      <th>3</th>\n",
       "      <td>153.88</td>\n",
       "    </tr>\n",
       "    <tr>\n",
       "      <th>1</th>\n",
       "      <td>79.52</td>\n",
       "    </tr>\n",
       "  </tbody>\n",
       "</table>\n",
       "</div>"
      ],
      "text/plain": [
       "               price\n",
       "accommodates        \n",
       "14            971.00\n",
       "13            842.50\n",
       "11            805.00\n",
       "16            800.00\n",
       "12            529.62\n",
       "10            500.86\n",
       "9             440.27\n",
       "7             411.54\n",
       "8             405.52\n",
       "6             355.51\n",
       "5             328.82\n",
       "4             212.10\n",
       "2             155.10\n",
       "3             153.88\n",
       "1              79.52"
      ]
     },
     "execution_count": 35,
     "metadata": {},
     "output_type": "execute_result"
    }
   ],
   "source": [
    "\n",
    "ellyse_listing_accommodates=paris_listing.query(\"neighbourhood=='Elysee'\").groupby('accommodates').agg({\"price\":\"mean\"}).round(2).sort_values(by='price',ascending=False)\n",
    "ellyse_listing_accommodates # sampaling method "
   ]
  },
  {
   "cell_type": "code",
   "execution_count": 36,
   "id": "53bb9743",
   "metadata": {
    "execution": {
     "iopub.execute_input": "2025-05-12T13:15:53.759415Z",
     "iopub.status.busy": "2025-05-12T13:15:53.759180Z",
     "iopub.status.idle": "2025-05-12T13:15:53.762238Z",
     "shell.execute_reply": "2025-05-12T13:15:53.761531Z"
    },
    "papermill": {
     "duration": 0.017378,
     "end_time": "2025-05-12T13:15:53.763618",
     "exception": false,
     "start_time": "2025-05-12T13:15:53.746240",
     "status": "completed"
    },
    "tags": []
   },
   "outputs": [],
   "source": [
    "# the AirBnb with 14 accommodates is the expensive ,even more expensive the 16 accommodates\n",
    "# the same trend is spotted for 11 and 12 accommodates. Every other accommodation looks reasonable."
   ]
  },
  {
   "cell_type": "markdown",
   "id": "6dee1b90",
   "metadata": {
    "papermill": {
     "duration": 0.014962,
     "end_time": "2025-05-12T13:15:53.795435",
     "exception": false,
     "start_time": "2025-05-12T13:15:53.780473",
     "status": "completed"
    },
    "tags": []
   },
   "source": [
    "<div style=\"background-color: #FF5A5F; padding: 25px; border-radius: 10px;\">\n",
    "  <h1 style=\"color: white; font-size: 24px; font-weight: bold; margin: 0;text-align:center\">\n",
    "    🚩 Possible Reasons for this Trend\n",
    "  </h1>\n",
    "</div>\n",
    "\n",
    "<ul style=\"font-size: 18px; color: #333; line-height: 1.6;\">\n",
    "  <li>🏡 Owners of properties with 16 people might face occupancy issues due to fewer large groups.</li>\n",
    "  <li>👨‍👩‍👧‍👦 The ones with 14 people might be a sweet spot for a group having two families traveling.</li>\n",
    "  <li>📍 There is a possibility that more than 16 and 12 occupancy properties are away from hotspots in Elysee.</li>\n",
    "  <li>📊 There might be potential outliers in 11 and 14 occupancy properties which are skewing the trend.</li>\n",
    "</ul>\n"
   ]
  },
  {
   "cell_type": "code",
   "execution_count": 37,
   "id": "cfaec80e",
   "metadata": {
    "execution": {
     "iopub.execute_input": "2025-05-12T13:15:53.830908Z",
     "iopub.status.busy": "2025-05-12T13:15:53.830692Z",
     "iopub.status.idle": "2025-05-12T13:15:53.837604Z",
     "shell.execute_reply": "2025-05-12T13:15:53.836918Z"
    },
    "papermill": {
     "duration": 0.026124,
     "end_time": "2025-05-12T13:15:53.838760",
     "exception": false,
     "start_time": "2025-05-12T13:15:53.812636",
     "status": "completed"
    },
    "tags": []
   },
   "outputs": [
    {
     "data": {
      "text/plain": [
       "3854"
      ]
     },
     "execution_count": 37,
     "metadata": {},
     "output_type": "execute_result"
    }
   ],
   "source": [
    "paris_listing['host_since'].nunique()"
   ]
  },
  {
   "cell_type": "markdown",
   "id": "61fe13d4",
   "metadata": {
    "papermill": {
     "duration": 0.010459,
     "end_time": "2025-05-12T13:15:53.859896",
     "exception": false,
     "start_time": "2025-05-12T13:15:53.849437",
     "status": "completed"
    },
    "tags": []
   },
   "source": [
    "<div style=\"background-color: #FF5A5F; padding: 25px; border-radius: 10px;\">\n",
    "  <h1 style=\"color: white; font-size: 24px; font-weight: bold; margin: 0;text-align:center\">\n",
    "    📈 Finding Popularity of AirBnB Over Time\n",
    "  </h1>\n",
    "</div>\n"
   ]
  },
  {
   "cell_type": "code",
   "execution_count": 38,
   "id": "21b42375",
   "metadata": {
    "execution": {
     "iopub.execute_input": "2025-05-12T13:15:53.880930Z",
     "iopub.status.busy": "2025-05-12T13:15:53.880316Z",
     "iopub.status.idle": "2025-05-12T13:15:53.924929Z",
     "shell.execute_reply": "2025-05-12T13:15:53.924155Z"
    },
    "papermill": {
     "duration": 0.056849,
     "end_time": "2025-05-12T13:15:53.926550",
     "exception": false,
     "start_time": "2025-05-12T13:15:53.869701",
     "status": "completed"
    },
    "tags": []
   },
   "outputs": [],
   "source": [
    "paris_listings_over_time=paris_listing.set_index(\"host_since\").resample(\"Y\").agg({'neighbourhood':'count','price':'mean'})"
   ]
  },
  {
   "cell_type": "code",
   "execution_count": 39,
   "id": "f31f7254",
   "metadata": {
    "execution": {
     "iopub.execute_input": "2025-05-12T13:15:53.969373Z",
     "iopub.status.busy": "2025-05-12T13:15:53.969118Z",
     "iopub.status.idle": "2025-05-12T13:15:53.980219Z",
     "shell.execute_reply": "2025-05-12T13:15:53.978669Z"
    },
    "papermill": {
     "duration": 0.03482,
     "end_time": "2025-05-12T13:15:53.981674",
     "exception": false,
     "start_time": "2025-05-12T13:15:53.946854",
     "status": "completed"
    },
    "tags": []
   },
   "outputs": [
    {
     "data": {
      "text/html": [
       "<div>\n",
       "<style scoped>\n",
       "    .dataframe tbody tr th:only-of-type {\n",
       "        vertical-align: middle;\n",
       "    }\n",
       "\n",
       "    .dataframe tbody tr th {\n",
       "        vertical-align: top;\n",
       "    }\n",
       "\n",
       "    .dataframe thead th {\n",
       "        text-align: right;\n",
       "    }\n",
       "</style>\n",
       "<table border=\"1\" class=\"dataframe\">\n",
       "  <thead>\n",
       "    <tr style=\"text-align: right;\">\n",
       "      <th></th>\n",
       "      <th>neighbourhood</th>\n",
       "      <th>price</th>\n",
       "    </tr>\n",
       "    <tr>\n",
       "      <th>host_since</th>\n",
       "      <th></th>\n",
       "      <th></th>\n",
       "    </tr>\n",
       "  </thead>\n",
       "  <tbody>\n",
       "    <tr>\n",
       "      <th>2008-12-31</th>\n",
       "      <td>4</td>\n",
       "      <td>77.750000</td>\n",
       "    </tr>\n",
       "    <tr>\n",
       "      <th>2009-12-31</th>\n",
       "      <td>106</td>\n",
       "      <td>159.641509</td>\n",
       "    </tr>\n",
       "    <tr>\n",
       "      <th>2010-12-31</th>\n",
       "      <td>416</td>\n",
       "      <td>125.031250</td>\n",
       "    </tr>\n",
       "    <tr>\n",
       "      <th>2011-12-31</th>\n",
       "      <td>1339</td>\n",
       "      <td>124.828230</td>\n",
       "    </tr>\n",
       "    <tr>\n",
       "      <th>2012-12-31</th>\n",
       "      <td>4592</td>\n",
       "      <td>111.578615</td>\n",
       "    </tr>\n",
       "    <tr>\n",
       "      <th>2013-12-31</th>\n",
       "      <td>8142</td>\n",
       "      <td>107.096414</td>\n",
       "    </tr>\n",
       "    <tr>\n",
       "      <th>2014-12-31</th>\n",
       "      <td>10922</td>\n",
       "      <td>100.253800</td>\n",
       "    </tr>\n",
       "    <tr>\n",
       "      <th>2015-12-31</th>\n",
       "      <td>12147</td>\n",
       "      <td>103.646250</td>\n",
       "    </tr>\n",
       "    <tr>\n",
       "      <th>2016-12-31</th>\n",
       "      <td>8867</td>\n",
       "      <td>114.211345</td>\n",
       "    </tr>\n",
       "    <tr>\n",
       "      <th>2017-12-31</th>\n",
       "      <td>4585</td>\n",
       "      <td>108.658888</td>\n",
       "    </tr>\n",
       "    <tr>\n",
       "      <th>2018-12-31</th>\n",
       "      <td>4294</td>\n",
       "      <td>138.209362</td>\n",
       "    </tr>\n",
       "    <tr>\n",
       "      <th>2019-12-31</th>\n",
       "      <td>5685</td>\n",
       "      <td>129.962533</td>\n",
       "    </tr>\n",
       "    <tr>\n",
       "      <th>2020-12-31</th>\n",
       "      <td>3363</td>\n",
       "      <td>143.517098</td>\n",
       "    </tr>\n",
       "    <tr>\n",
       "      <th>2021-12-31</th>\n",
       "      <td>133</td>\n",
       "      <td>93.488722</td>\n",
       "    </tr>\n",
       "  </tbody>\n",
       "</table>\n",
       "</div>"
      ],
      "text/plain": [
       "            neighbourhood       price\n",
       "host_since                           \n",
       "2008-12-31              4   77.750000\n",
       "2009-12-31            106  159.641509\n",
       "2010-12-31            416  125.031250\n",
       "2011-12-31           1339  124.828230\n",
       "2012-12-31           4592  111.578615\n",
       "2013-12-31           8142  107.096414\n",
       "2014-12-31          10922  100.253800\n",
       "2015-12-31          12147  103.646250\n",
       "2016-12-31           8867  114.211345\n",
       "2017-12-31           4585  108.658888\n",
       "2018-12-31           4294  138.209362\n",
       "2019-12-31           5685  129.962533\n",
       "2020-12-31           3363  143.517098\n",
       "2021-12-31            133   93.488722"
      ]
     },
     "execution_count": 39,
     "metadata": {},
     "output_type": "execute_result"
    }
   ],
   "source": [
    "paris_listings_over_time"
   ]
  },
  {
   "cell_type": "code",
   "execution_count": 40,
   "id": "3331fe3c",
   "metadata": {
    "execution": {
     "iopub.execute_input": "2025-05-12T13:15:54.008429Z",
     "iopub.status.busy": "2025-05-12T13:15:54.007888Z",
     "iopub.status.idle": "2025-05-12T13:15:55.788981Z",
     "shell.execute_reply": "2025-05-12T13:15:55.788210Z"
    },
    "papermill": {
     "duration": 1.796356,
     "end_time": "2025-05-12T13:15:55.790380",
     "exception": false,
     "start_time": "2025-05-12T13:15:53.994024",
     "status": "completed"
    },
    "tags": []
   },
   "outputs": [],
   "source": [
    "import matplotlib.pyplot as plt\n",
    "import seaborn as sns"
   ]
  },
  {
   "cell_type": "markdown",
   "id": "5f06fe3a",
   "metadata": {
    "papermill": {
     "duration": 0.010319,
     "end_time": "2025-05-12T13:15:55.811490",
     "exception": false,
     "start_time": "2025-05-12T13:15:55.801171",
     "status": "completed"
    },
    "tags": []
   },
   "source": [
    "<div style=\"background-color: #FF5A5F; padding: 20px; border-radius: 10px;\">\n",
    "  <h2 style=\"color: white; font-size: 22px; font-weight: bold; margin: 0;text-align:center\">\n",
    "    📊 Data Visualization\n",
    "  </h2>\n",
    "</div>\n"
   ]
  },
  {
   "cell_type": "code",
   "execution_count": 41,
   "id": "5ab9db98",
   "metadata": {
    "execution": {
     "iopub.execute_input": "2025-05-12T13:15:55.833145Z",
     "iopub.status.busy": "2025-05-12T13:15:55.832606Z",
     "iopub.status.idle": "2025-05-12T13:15:55.840654Z",
     "shell.execute_reply": "2025-05-12T13:15:55.839967Z"
    },
    "papermill": {
     "duration": 0.019774,
     "end_time": "2025-05-12T13:15:55.841683",
     "exception": false,
     "start_time": "2025-05-12T13:15:55.821909",
     "status": "completed"
    },
    "tags": []
   },
   "outputs": [
    {
     "data": {
      "text/html": [
       "<div>\n",
       "<style scoped>\n",
       "    .dataframe tbody tr th:only-of-type {\n",
       "        vertical-align: middle;\n",
       "    }\n",
       "\n",
       "    .dataframe tbody tr th {\n",
       "        vertical-align: top;\n",
       "    }\n",
       "\n",
       "    .dataframe thead th {\n",
       "        text-align: right;\n",
       "    }\n",
       "</style>\n",
       "<table border=\"1\" class=\"dataframe\">\n",
       "  <thead>\n",
       "    <tr style=\"text-align: right;\">\n",
       "      <th></th>\n",
       "      <th>price</th>\n",
       "    </tr>\n",
       "    <tr>\n",
       "      <th>neighbourhood</th>\n",
       "      <th></th>\n",
       "    </tr>\n",
       "  </thead>\n",
       "  <tbody>\n",
       "    <tr>\n",
       "      <th>Elysee</th>\n",
       "      <td>211.37</td>\n",
       "    </tr>\n",
       "    <tr>\n",
       "      <th>Louvre</th>\n",
       "      <td>175.75</td>\n",
       "    </tr>\n",
       "    <tr>\n",
       "      <th>Passy</th>\n",
       "      <td>161.29</td>\n",
       "    </tr>\n",
       "    <tr>\n",
       "      <th>Palais-Bourbon</th>\n",
       "      <td>157.51</td>\n",
       "    </tr>\n",
       "    <tr>\n",
       "      <th>Luxembourg</th>\n",
       "      <td>155.79</td>\n",
       "    </tr>\n",
       "    <tr>\n",
       "      <th>Bourse</th>\n",
       "      <td>149.63</td>\n",
       "    </tr>\n",
       "    <tr>\n",
       "      <th>Hotel-de-Ville</th>\n",
       "      <td>144.52</td>\n",
       "    </tr>\n",
       "    <tr>\n",
       "      <th>Temple</th>\n",
       "      <td>138.43</td>\n",
       "    </tr>\n",
       "    <tr>\n",
       "      <th>Pantheon</th>\n",
       "      <td>122.98</td>\n",
       "    </tr>\n",
       "    <tr>\n",
       "      <th>Opera</th>\n",
       "      <td>119.20</td>\n",
       "    </tr>\n",
       "    <tr>\n",
       "      <th>Vaugirard</th>\n",
       "      <td>107.09</td>\n",
       "    </tr>\n",
       "    <tr>\n",
       "      <th>Enclos-St-Laurent</th>\n",
       "      <td>103.12</td>\n",
       "    </tr>\n",
       "    <tr>\n",
       "      <th>Batignolles-Monceau</th>\n",
       "      <td>102.69</td>\n",
       "    </tr>\n",
       "    <tr>\n",
       "      <th>Observatoire</th>\n",
       "      <td>102.00</td>\n",
       "    </tr>\n",
       "    <tr>\n",
       "      <th>Gobelins</th>\n",
       "      <td>98.11</td>\n",
       "    </tr>\n",
       "    <tr>\n",
       "      <th>Popincourt</th>\n",
       "      <td>90.55</td>\n",
       "    </tr>\n",
       "    <tr>\n",
       "      <th>Reuilly</th>\n",
       "      <td>89.13</td>\n",
       "    </tr>\n",
       "    <tr>\n",
       "      <th>Buttes-Montmartre</th>\n",
       "      <td>87.25</td>\n",
       "    </tr>\n",
       "    <tr>\n",
       "      <th>Buttes-Chaumont</th>\n",
       "      <td>82.69</td>\n",
       "    </tr>\n",
       "    <tr>\n",
       "      <th>Menilmontant</th>\n",
       "      <td>74.93</td>\n",
       "    </tr>\n",
       "  </tbody>\n",
       "</table>\n",
       "</div>"
      ],
      "text/plain": [
       "                      price\n",
       "neighbourhood              \n",
       "Elysee               211.37\n",
       "Louvre               175.75\n",
       "Passy                161.29\n",
       "Palais-Bourbon       157.51\n",
       "Luxembourg           155.79\n",
       "Bourse               149.63\n",
       "Hotel-de-Ville       144.52\n",
       "Temple               138.43\n",
       "Pantheon             122.98\n",
       "Opera                119.20\n",
       "Vaugirard            107.09\n",
       "Enclos-St-Laurent    103.12\n",
       "Batignolles-Monceau  102.69\n",
       "Observatoire         102.00\n",
       "Gobelins              98.11\n",
       "Popincourt            90.55\n",
       "Reuilly               89.13\n",
       "Buttes-Montmartre     87.25\n",
       "Buttes-Chaumont       82.69\n",
       "Menilmontant          74.93"
      ]
     },
     "execution_count": 41,
     "metadata": {},
     "output_type": "execute_result"
    }
   ],
   "source": [
    "paris_listing_neighbourhood"
   ]
  },
  {
   "cell_type": "code",
   "execution_count": 42,
   "id": "6addb5d6",
   "metadata": {
    "execution": {
     "iopub.execute_input": "2025-05-12T13:15:55.862908Z",
     "iopub.status.busy": "2025-05-12T13:15:55.862714Z",
     "iopub.status.idle": "2025-05-12T13:15:56.393744Z",
     "shell.execute_reply": "2025-05-12T13:15:56.392987Z"
    },
    "papermill": {
     "duration": 0.54282,
     "end_time": "2025-05-12T13:15:56.394904",
     "exception": false,
     "start_time": "2025-05-12T13:15:55.852084",
     "status": "completed"
    },
    "tags": []
   },
   "outputs": [
    {
     "data": {
      "text/plain": [
       "Text(0, 0.5, \"Prominet places with AirBnB's\")"
      ]
     },
     "execution_count": 42,
     "metadata": {},
     "output_type": "execute_result"
    },
    {
     "data": {
      "image/png": "[encoded data removed]",
      "text/plain": [
       "<Figure size 1200x800 with 1 Axes>"
      ]
     },
     "metadata": {},
     "output_type": "display_data"
    }
   ],
   "source": [
    "plt.figure(figsize = (12,8)) # create a canvas to restrice the size of plt\n",
    "sns.barplot(data=paris_listing_neighbourhood,\n",
    "           x='price',\n",
    "           y=paris_listing_neighbourhood.index,\n",
    "           color='#FF5A5F',\n",
    "           )\n",
    "plt.title(\"Neighbourhood in Paris(Premium Localities at the Top!)\")\n",
    "plt.xlabel(\"How Expensive? (Euros)\")\n",
    "plt.ylabel(\"Prominet places with AirBnB's\")\n"
   ]
  },
  {
   "cell_type": "code",
   "execution_count": 43,
   "id": "56340a15",
   "metadata": {
    "execution": {
     "iopub.execute_input": "2025-05-12T13:15:56.421219Z",
     "iopub.status.busy": "2025-05-12T13:15:56.420985Z",
     "iopub.status.idle": "2025-05-12T13:15:56.423973Z",
     "shell.execute_reply": "2025-05-12T13:15:56.423470Z"
    },
    "papermill": {
     "duration": 0.017095,
     "end_time": "2025-05-12T13:15:56.425008",
     "exception": false,
     "start_time": "2025-05-12T13:15:56.407913",
     "status": "completed"
    },
    "tags": []
   },
   "outputs": [],
   "source": [
    "# Inside of Paris, the price of AirBnBs is directly impacted by the popularity of the tourist place or \n",
    "# the view of Eiffel tower. We need to further see if the prices are increasing when the regulations are imposed."
   ]
  },
  {
   "cell_type": "code",
   "execution_count": 44,
   "id": "6b9b6552",
   "metadata": {
    "execution": {
     "iopub.execute_input": "2025-05-12T13:15:56.450008Z",
     "iopub.status.busy": "2025-05-12T13:15:56.449823Z",
     "iopub.status.idle": "2025-05-12T13:15:56.456981Z",
     "shell.execute_reply": "2025-05-12T13:15:56.456262Z"
    },
    "papermill": {
     "duration": 0.020914,
     "end_time": "2025-05-12T13:15:56.458174",
     "exception": false,
     "start_time": "2025-05-12T13:15:56.437260",
     "status": "completed"
    },
    "tags": []
   },
   "outputs": [
    {
     "data": {
      "text/html": [
       "<div>\n",
       "<style scoped>\n",
       "    .dataframe tbody tr th:only-of-type {\n",
       "        vertical-align: middle;\n",
       "    }\n",
       "\n",
       "    .dataframe tbody tr th {\n",
       "        vertical-align: top;\n",
       "    }\n",
       "\n",
       "    .dataframe thead th {\n",
       "        text-align: right;\n",
       "    }\n",
       "</style>\n",
       "<table border=\"1\" class=\"dataframe\">\n",
       "  <thead>\n",
       "    <tr style=\"text-align: right;\">\n",
       "      <th></th>\n",
       "      <th>price</th>\n",
       "    </tr>\n",
       "    <tr>\n",
       "      <th>accommodates</th>\n",
       "      <th></th>\n",
       "    </tr>\n",
       "  </thead>\n",
       "  <tbody>\n",
       "    <tr>\n",
       "      <th>14</th>\n",
       "      <td>971.00</td>\n",
       "    </tr>\n",
       "    <tr>\n",
       "      <th>13</th>\n",
       "      <td>842.50</td>\n",
       "    </tr>\n",
       "    <tr>\n",
       "      <th>11</th>\n",
       "      <td>805.00</td>\n",
       "    </tr>\n",
       "    <tr>\n",
       "      <th>16</th>\n",
       "      <td>800.00</td>\n",
       "    </tr>\n",
       "    <tr>\n",
       "      <th>12</th>\n",
       "      <td>529.62</td>\n",
       "    </tr>\n",
       "    <tr>\n",
       "      <th>10</th>\n",
       "      <td>500.86</td>\n",
       "    </tr>\n",
       "    <tr>\n",
       "      <th>9</th>\n",
       "      <td>440.27</td>\n",
       "    </tr>\n",
       "    <tr>\n",
       "      <th>7</th>\n",
       "      <td>411.54</td>\n",
       "    </tr>\n",
       "    <tr>\n",
       "      <th>8</th>\n",
       "      <td>405.52</td>\n",
       "    </tr>\n",
       "    <tr>\n",
       "      <th>6</th>\n",
       "      <td>355.51</td>\n",
       "    </tr>\n",
       "    <tr>\n",
       "      <th>5</th>\n",
       "      <td>328.82</td>\n",
       "    </tr>\n",
       "    <tr>\n",
       "      <th>4</th>\n",
       "      <td>212.10</td>\n",
       "    </tr>\n",
       "    <tr>\n",
       "      <th>2</th>\n",
       "      <td>155.10</td>\n",
       "    </tr>\n",
       "    <tr>\n",
       "      <th>3</th>\n",
       "      <td>153.88</td>\n",
       "    </tr>\n",
       "    <tr>\n",
       "      <th>1</th>\n",
       "      <td>79.52</td>\n",
       "    </tr>\n",
       "  </tbody>\n",
       "</table>\n",
       "</div>"
      ],
      "text/plain": [
       "               price\n",
       "accommodates        \n",
       "14            971.00\n",
       "13            842.50\n",
       "11            805.00\n",
       "16            800.00\n",
       "12            529.62\n",
       "10            500.86\n",
       "9             440.27\n",
       "7             411.54\n",
       "8             405.52\n",
       "6             355.51\n",
       "5             328.82\n",
       "4             212.10\n",
       "2             155.10\n",
       "3             153.88\n",
       "1              79.52"
      ]
     },
     "execution_count": 44,
     "metadata": {},
     "output_type": "execute_result"
    }
   ],
   "source": [
    "ellyse_listing_accommodates"
   ]
  },
  {
   "cell_type": "code",
   "execution_count": 45,
   "id": "4d861cbc",
   "metadata": {
    "execution": {
     "iopub.execute_input": "2025-05-12T13:15:56.483617Z",
     "iopub.status.busy": "2025-05-12T13:15:56.483421Z",
     "iopub.status.idle": "2025-05-12T13:15:56.738166Z",
     "shell.execute_reply": "2025-05-12T13:15:56.737554Z"
    },
    "papermill": {
     "duration": 0.268484,
     "end_time": "2025-05-12T13:15:56.739601",
     "exception": false,
     "start_time": "2025-05-12T13:15:56.471117",
     "status": "completed"
    },
    "tags": []
   },
   "outputs": [
    {
     "data": {
      "text/plain": [
       "Text(0, 0.5, 'Number of people that can stay')"
      ]
     },
     "execution_count": 45,
     "metadata": {},
     "output_type": "execute_result"
    },
    {
     "data": {
      "image/png": "[encoded data removed]",
      "text/plain": [
       "<Figure size 1200x800 with 1 Axes>"
      ]
     },
     "metadata": {},
     "output_type": "display_data"
    }
   ],
   "source": [
    "plt.figure(figsize = (12,8)) # create a canvas to restrice the size of plt\n",
    "sns.barplot(data=ellyse_listing_accommodates,\n",
    "           x='price',\n",
    "           y=ellyse_listing_accommodates.index,\n",
    "           color='#00A699',\n",
    "           orient= 'h',\n",
    "           order=ellyse_listing_accommodates.index)\n",
    "plt.title(\"Average Price of AirBnB in Elysee -- vs -- Number of people that can stay \")\n",
    "plt.xlabel(\"Average Price (Euros)\")\n",
    "plt.ylabel(\"Number of people that can stay\")\n"
   ]
  },
  {
   "cell_type": "code",
   "execution_count": 46,
   "id": "e302851b",
   "metadata": {
    "execution": {
     "iopub.execute_input": "2025-05-12T13:15:56.768213Z",
     "iopub.status.busy": "2025-05-12T13:15:56.767576Z",
     "iopub.status.idle": "2025-05-12T13:15:56.771299Z",
     "shell.execute_reply": "2025-05-12T13:15:56.770435Z"
    },
    "papermill": {
     "duration": 0.017949,
     "end_time": "2025-05-12T13:15:56.772449",
     "exception": false,
     "start_time": "2025-05-12T13:15:56.754500",
     "status": "completed"
    },
    "tags": []
   },
   "outputs": [],
   "source": [
    "# The AirBnBs with 14 people accomodation is the costliest, even costlier than 16 accomodates. \n",
    "# the same trend is spotted for 11 and 12 accomodates. Every other accomodation looks reasonable."
   ]
  },
  {
   "cell_type": "code",
   "execution_count": 47,
   "id": "47b7ae55",
   "metadata": {
    "execution": {
     "iopub.execute_input": "2025-05-12T13:15:56.798548Z",
     "iopub.status.busy": "2025-05-12T13:15:56.798326Z",
     "iopub.status.idle": "2025-05-12T13:15:56.805293Z",
     "shell.execute_reply": "2025-05-12T13:15:56.804643Z"
    },
    "papermill": {
     "duration": 0.021196,
     "end_time": "2025-05-12T13:15:56.806460",
     "exception": false,
     "start_time": "2025-05-12T13:15:56.785264",
     "status": "completed"
    },
    "tags": []
   },
   "outputs": [
    {
     "data": {
      "text/html": [
       "<div>\n",
       "<style scoped>\n",
       "    .dataframe tbody tr th:only-of-type {\n",
       "        vertical-align: middle;\n",
       "    }\n",
       "\n",
       "    .dataframe tbody tr th {\n",
       "        vertical-align: top;\n",
       "    }\n",
       "\n",
       "    .dataframe thead th {\n",
       "        text-align: right;\n",
       "    }\n",
       "</style>\n",
       "<table border=\"1\" class=\"dataframe\">\n",
       "  <thead>\n",
       "    <tr style=\"text-align: right;\">\n",
       "      <th></th>\n",
       "      <th>neighbourhood</th>\n",
       "      <th>price</th>\n",
       "    </tr>\n",
       "    <tr>\n",
       "      <th>host_since</th>\n",
       "      <th></th>\n",
       "      <th></th>\n",
       "    </tr>\n",
       "  </thead>\n",
       "  <tbody>\n",
       "    <tr>\n",
       "      <th>2008-12-31</th>\n",
       "      <td>4</td>\n",
       "      <td>77.750000</td>\n",
       "    </tr>\n",
       "    <tr>\n",
       "      <th>2009-12-31</th>\n",
       "      <td>106</td>\n",
       "      <td>159.641509</td>\n",
       "    </tr>\n",
       "    <tr>\n",
       "      <th>2010-12-31</th>\n",
       "      <td>416</td>\n",
       "      <td>125.031250</td>\n",
       "    </tr>\n",
       "    <tr>\n",
       "      <th>2011-12-31</th>\n",
       "      <td>1339</td>\n",
       "      <td>124.828230</td>\n",
       "    </tr>\n",
       "    <tr>\n",
       "      <th>2012-12-31</th>\n",
       "      <td>4592</td>\n",
       "      <td>111.578615</td>\n",
       "    </tr>\n",
       "    <tr>\n",
       "      <th>2013-12-31</th>\n",
       "      <td>8142</td>\n",
       "      <td>107.096414</td>\n",
       "    </tr>\n",
       "    <tr>\n",
       "      <th>2014-12-31</th>\n",
       "      <td>10922</td>\n",
       "      <td>100.253800</td>\n",
       "    </tr>\n",
       "    <tr>\n",
       "      <th>2015-12-31</th>\n",
       "      <td>12147</td>\n",
       "      <td>103.646250</td>\n",
       "    </tr>\n",
       "    <tr>\n",
       "      <th>2016-12-31</th>\n",
       "      <td>8867</td>\n",
       "      <td>114.211345</td>\n",
       "    </tr>\n",
       "    <tr>\n",
       "      <th>2017-12-31</th>\n",
       "      <td>4585</td>\n",
       "      <td>108.658888</td>\n",
       "    </tr>\n",
       "    <tr>\n",
       "      <th>2018-12-31</th>\n",
       "      <td>4294</td>\n",
       "      <td>138.209362</td>\n",
       "    </tr>\n",
       "    <tr>\n",
       "      <th>2019-12-31</th>\n",
       "      <td>5685</td>\n",
       "      <td>129.962533</td>\n",
       "    </tr>\n",
       "    <tr>\n",
       "      <th>2020-12-31</th>\n",
       "      <td>3363</td>\n",
       "      <td>143.517098</td>\n",
       "    </tr>\n",
       "    <tr>\n",
       "      <th>2021-12-31</th>\n",
       "      <td>133</td>\n",
       "      <td>93.488722</td>\n",
       "    </tr>\n",
       "  </tbody>\n",
       "</table>\n",
       "</div>"
      ],
      "text/plain": [
       "            neighbourhood       price\n",
       "host_since                           \n",
       "2008-12-31              4   77.750000\n",
       "2009-12-31            106  159.641509\n",
       "2010-12-31            416  125.031250\n",
       "2011-12-31           1339  124.828230\n",
       "2012-12-31           4592  111.578615\n",
       "2013-12-31           8142  107.096414\n",
       "2014-12-31          10922  100.253800\n",
       "2015-12-31          12147  103.646250\n",
       "2016-12-31           8867  114.211345\n",
       "2017-12-31           4585  108.658888\n",
       "2018-12-31           4294  138.209362\n",
       "2019-12-31           5685  129.962533\n",
       "2020-12-31           3363  143.517098\n",
       "2021-12-31            133   93.488722"
      ]
     },
     "execution_count": 47,
     "metadata": {},
     "output_type": "execute_result"
    }
   ],
   "source": [
    "paris_listings_over_time"
   ]
  },
  {
   "cell_type": "code",
   "execution_count": 48,
   "id": "ae78948b",
   "metadata": {
    "execution": {
     "iopub.execute_input": "2025-05-12T13:15:56.833591Z",
     "iopub.status.busy": "2025-05-12T13:15:56.833074Z",
     "iopub.status.idle": "2025-05-12T13:15:57.055530Z",
     "shell.execute_reply": "2025-05-12T13:15:57.054847Z"
    },
    "papermill": {
     "duration": 0.237406,
     "end_time": "2025-05-12T13:15:57.056926",
     "exception": false,
     "start_time": "2025-05-12T13:15:56.819520",
     "status": "completed"
    },
    "tags": []
   },
   "outputs": [
    {
     "data": {
      "image/png": "[encoded data removed]",
      "text/plain": [
       "<Figure size 1000x600 with 1 Axes>"
      ]
     },
     "metadata": {},
     "output_type": "display_data"
    }
   ],
   "source": [
    "plt.figure(figsize=(10,6))\n",
    "sns.lineplot(data=paris_listings_over_time['neighbourhood'],\n",
    "            color='#00A699'\n",
    "            )\n",
    "plt.title(\"POpularity of AirBnB Over Time \")\n",
    "plt.xlabel(\"Year\")\n",
    "plt.ylabel(\"Number of AirBnB Activated\")\n",
    "plt.grid(True)\n",
    "plt.show()\n"
   ]
  },
  {
   "cell_type": "code",
   "execution_count": 49,
   "id": "2399a9f3",
   "metadata": {
    "execution": {
     "iopub.execute_input": "2025-05-12T13:15:57.087387Z",
     "iopub.status.busy": "2025-05-12T13:15:57.087139Z",
     "iopub.status.idle": "2025-05-12T13:15:57.284717Z",
     "shell.execute_reply": "2025-05-12T13:15:57.284130Z"
    },
    "papermill": {
     "duration": 0.214017,
     "end_time": "2025-05-12T13:15:57.285853",
     "exception": false,
     "start_time": "2025-05-12T13:15:57.071836",
     "status": "completed"
    },
    "tags": []
   },
   "outputs": [
    {
     "data": {
      "image/png": "[encoded data removed]",
      "text/plain": [
       "<Figure size 1000x600 with 1 Axes>"
      ]
     },
     "metadata": {},
     "output_type": "display_data"
    }
   ],
   "source": [
    "plt.figure(figsize=(10,6))\n",
    "sns.lineplot(data=paris_listings_over_time['price'],\n",
    "            color='#FF5A5F'\n",
    "            )\n",
    "plt.title(\"Average Price of AirBnB Over Time \")\n",
    "plt.xlabel(\"Year\")\n",
    "plt.ylabel(\"Average Price\")\n",
    "plt.grid(True)\n",
    "plt.show()\n"
   ]
  },
  {
   "cell_type": "markdown",
   "id": "4de9091a",
   "metadata": {
    "papermill": {
     "duration": 0.014354,
     "end_time": "2025-05-12T13:15:57.316180",
     "exception": false,
     "start_time": "2025-05-12T13:15:57.301826",
     "status": "completed"
    },
    "tags": []
   },
   "source": [
    "<div style=\"background-color: #FF5A5F; padding: 25px; border-radius: 10px;\">\n",
    "  <h1 style=\"color: white; font-size: 24px; font-weight: bold; margin: 0;text-align:center\">\n",
    "    📊 Finding Effects of Regulations on AirBnB Business\n",
    "  </h1>\n",
    "</div>\n"
   ]
  },
  {
   "cell_type": "code",
   "execution_count": 50,
   "id": "c00699d1",
   "metadata": {
    "execution": {
     "iopub.execute_input": "2025-05-12T13:15:57.346264Z",
     "iopub.status.busy": "2025-05-12T13:15:57.346076Z",
     "iopub.status.idle": "2025-05-12T13:15:57.654898Z",
     "shell.execute_reply": "2025-05-12T13:15:57.654114Z"
    },
    "papermill": {
     "duration": 0.325894,
     "end_time": "2025-05-12T13:15:57.656622",
     "exception": false,
     "start_time": "2025-05-12T13:15:57.330728",
     "status": "completed"
    },
    "tags": []
   },
   "outputs": [
    {
     "data": {
      "image/png": "[encoded data removed]",
      "text/plain": [
       "<Figure size 1200x800 with 2 Axes>"
      ]
     },
     "metadata": {},
     "output_type": "display_data"
    }
   ],
   "source": [
    "fig,ax = plt.subplots(figsize=(12,8))\n",
    "ax.plot(paris_listings_over_time.index,paris_listings_over_time['neighbourhood'],label='New Hosts',c='lightgreen')\n",
    "ax.set_ylabel('New Hosts')\n",
    "ax2=ax.twinx()\n",
    "ax2.plot(paris_listings_over_time.index,paris_listings_over_time['price'],label='Average Price',c='red')\n",
    "ax2.set_ylim(0)\n",
    "ax2.set_ylabel('Average Price')\n",
    "ax.legend(loc='upper right')\n",
    "ax2.legend(loc='upper left')\n",
    "ax.set_title(\"Regulation Lead to Fewer New Hosts And Higher Prices\")\n",
    "plt.show()\n"
   ]
  },
  {
   "cell_type": "markdown",
   "id": "2614e7b9",
   "metadata": {
    "papermill": {
     "duration": 0.015699,
     "end_time": "2025-05-12T13:15:57.689077",
     "exception": false,
     "start_time": "2025-05-12T13:15:57.673378",
     "status": "completed"
    },
    "tags": []
   },
   "source": [
    "<div style=\"background-color: #FF5A5F; padding: 25px; border-radius: 10px;\">\n",
    "  <h1 style=\"color: white; font-size: 24px; font-weight: bold; margin: 0;text-align:center\">\n",
    "    &#128269; Final Insights\n",
    "  </h1>\n",
    "</div>\n",
    "\n",
    "### 1. Early Growth Period (Pre-Regulation):\n",
    "- The number of AirBnBs kept increasing since the launch, and prices kept rising as a result of initial traction and early adopters.\n",
    "\n",
    "### 2. Stabilization Period:\n",
    "- As AirBnB became a well-known platform and entered the mainstream, the number of AirBnBs continued to increase, but prices started to stabilize and even decrease in some areas.\n",
    "\n",
    "### 3. Regulation Announcement (2015):\n",
    "- With the announcement of regulations around 2015, there was a decline in confidence in the AirBnB business. The number of listings started decreasing, while prices began to increase due to limited supply and more stringent rules.\n",
    "\n",
    "### 4. Post-Regulation Normalization (2019 and Beyond):\n",
    "- By 2019, with regulation becoming the new normal, the number of AirBnBs started to increase again, but prices began to decrease due to more supply and lower demand pressure.\n"
   ]
  },
  {
   "cell_type": "markdown",
   "id": "c8ff0ee9",
   "metadata": {
    "papermill": {
     "duration": 0.016251,
     "end_time": "2025-05-12T13:15:57.721224",
     "exception": false,
     "start_time": "2025-05-12T13:15:57.704973",
     "status": "completed"
    },
    "tags": []
   },
   "source": [
    "<div style=\"background-color: #FF5A5F; padding: 25px; border-radius: 10px;\">\n",
    "  <h1 style=\"color: white; font-size: 24px; font-weight: bold; margin: 0;text-align:center\">\n",
    "    &#128161; Recommendation for AirBnB\n",
    "  </h1>\n",
    "</div>\n",
    "\n",
    "### 1. Impact of Long-Term Rental Regulations:\n",
    "- Regulations in long-term rentals can impact the business adversely, leading to customer and host churn due to uncertainty.\n",
    "\n",
    "### 2. Financial Implications:\n",
    "- Such regulations might add to AirBnB's losses, which could be difficult to recover in the future.\n",
    "\n",
    "### 3. Brand Perception Risks:\n",
    "- If the customer experience is affected due to these regulations, it may lead to an incorrect or negative brand perception.\n",
    "\n",
    "### 4. Proactive Strategy:\n",
    "- It is recommended to monitor similar regulations in other regions and be prepared to adapt.\n",
    "\n",
    "### 5. Replication of Regulations:\n",
    "- AirBnB can replicate such regulations in other locations to proactively manage potential issues.\n",
    "\n",
    "### 6. Host Management:\n",
    "- Strict rules for onboarding and releasing hosts could help maintain a balanced ecosystem.\n",
    "\n",
    "### 7. Locality Limitations:\n",
    "- Limiting the number of AirBnBs in a locality will ensure sufficient rental options for the public and avoid unnecessary government intervention."
   ]
  },
  {
   "cell_type": "code",
   "execution_count": null,
   "id": "c83c3926",
   "metadata": {
    "papermill": {
     "duration": 0.015468,
     "end_time": "2025-05-12T13:15:57.754607",
     "exception": false,
     "start_time": "2025-05-12T13:15:57.739139",
     "status": "completed"
    },
    "tags": []
   },
   "outputs": [],
   "source": []
  }
 ],
 "metadata": {
  "kaggle": {
   "accelerator": "nvidiaTeslaT4",
   "dataSources": [
    {
     "datasetId": 1530930,
     "sourceId": 2526818,
     "sourceType": "datasetVersion"
    }
   ],
   "dockerImageVersionId": 31011,
   "isGpuEnabled": true,
   "isInternetEnabled": true,
   "language": "python",
   "sourceType": "notebook"
  },
  "kernelspec": {
   "display_name": "Python 3",
   "language": "python",
   "name": "python3"
  },
  "language_info": {
   "codemirror_mode": {
    "name": "ipython",
    "version": 3
   },
   "file_extension": ".py",
   "mimetype": "text/x-python",
   "name": "python",
   "nbconvert_exporter": "python",
   "pygments_lexer": "ipython3",
   "version": "3.11.11"
  },
  "papermill": {
   "default_parameters": {},
   "duration": 21.95997,
   "end_time": "2025-05-12T13:15:58.288508",
   "environment_variables": {},
   "exception": null,
   "input_path": "__notebook__.ipynb",
   "output_path": "__notebook__.ipynb",
   "parameters": {},
   "start_time": "2025-05-12T13:15:36.328538",
   "version": "2.6.0"
  }
 },
 "nbformat": 4,
 "nbformat_minor": 5
}
